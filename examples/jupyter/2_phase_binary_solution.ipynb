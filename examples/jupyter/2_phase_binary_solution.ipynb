{
 "cells": [
  {
   "cell_type": "code",
   "execution_count": 1,
   "metadata": {},
   "outputs": [],
   "source": [
    "from pytential.sympy_pytential import sympy_pytential\n",
    "from pytential.reduce import min_pytential\n",
    "from numpy import linspace, vectorize, meshgrid\n",
    "import plotly.graph_objects as go\n",
    "from plotly.subplots import make_subplots"
   ]
  },
  {
   "cell_type": "code",
   "execution_count": 6,
   "metadata": {},
   "outputs": [
    {
     "name": "stdout",
     "output_type": "stream",
     "text": [
      "Density, rho, not found. Assuming rho = 1\n",
      "Specific volumes, vi, not found. Assuming vi = 1/rho\n",
      "Density, rho, not found. Assuming rho = 1\n",
      "Specific volumes, vi, not found. Assuming vi = 1/rho\n"
     ]
    }
   ],
   "source": [
    "fa = sympy_pytential.from_properties({'mu0':[2000,0]}, {'T':300}, suffix='a')\n",
    "fb = sympy_pytential.from_properties({'mu0':[0,2000]}, {'T':300}, suffix='b')"
   ]
  },
  {
   "cell_type": "markdown",
   "metadata": {},
   "source": [
    "Make a collected function fa+fb with all the variables, and add constraints that the concentrations must sum to ca and cb"
   ]
  },
  {
   "cell_type": "code",
   "execution_count": 11,
   "metadata": {},
   "outputs": [
    {
     "data": {
      "text/plain": [
       "[-Va + 1.0*c0a + 1.0*c1a, -Vb + 1.0*c0b + 1.0*c1b]"
      ]
     },
     "execution_count": 11,
     "metadata": {},
     "output_type": "execute_result"
    }
   ],
   "source": [
    "f = fa+fb\n",
    "f.constraints_sym"
   ]
  },
  {
   "cell_type": "code",
   "execution_count": 22,
   "metadata": {},
   "outputs": [
    {
     "data": {
      "text/latex": [
       "$\\displaystyle - c_{1} + c1a + c1b$"
      ],
      "text/plain": [
       "-c1 + c1a + c1b"
      ]
     },
     "execution_count": 22,
     "metadata": {},
     "output_type": "execute_result"
    }
   ],
   "source": [
    "f.vars\n",
    "var = 'c1'\n",
    "vars = [s for s in f.vars if s.startswith(var)]\n",
    "from sympy import symbols\n",
    "vars_partial = symbols(vars)\n",
    "sum(vars_partial)-symbols(var)"
   ]
  },
  {
   "cell_type": "code",
   "execution_count": null,
   "metadata": {},
   "outputs": [],
   "source": []
  }
 ],
 "metadata": {
  "kernelspec": {
   "display_name": "Python 3",
   "language": "python",
   "name": "python3"
  },
  "language_info": {
   "codemirror_mode": {
    "name": "ipython",
    "version": 3
   },
   "file_extension": ".py",
   "mimetype": "text/x-python",
   "name": "python",
   "nbconvert_exporter": "python",
   "pygments_lexer": "ipython3",
   "version": "3.11.9"
  }
 },
 "nbformat": 4,
 "nbformat_minor": 2
}
