{
 "cells": [
  {
   "cell_type": "code",
   "execution_count": null,
   "metadata": {},
   "outputs": [],
   "source": [
    "from pytential.sympy_pytential import sympy_pytential\n",
    "from pytential.reduce import min_pytential, pyt_minimizer"
   ]
  },
  {
   "cell_type": "code",
   "execution_count": null,
   "metadata": {},
   "outputs": [],
   "source": [
    "fa = sympy_pytential.from_properties({'mu0':[2,0]}, {'T':.300}, suffix='a')\n",
    "fb = sympy_pytential.from_properties({'mu0':[0,2]}, {'T':.300}, suffix='b')"
   ]
  },
  {
   "cell_type": "markdown",
   "metadata": {},
   "source": [
    "Make a collected function fa+fb with all the variables, and add constraints that the concentrations must sum to ca and cb"
   ]
  },
  {
   "cell_type": "code",
   "execution_count": null,
   "metadata": {},
   "outputs": [],
   "source": [
    "f = fa+fb\n",
    "f = sympy_pytential.sum_extensive_variables(f, ['c0', 'c1'])\n",
    "print(f)"
   ]
  },
  {
   "cell_type": "code",
   "execution_count": null,
   "metadata": {},
   "outputs": [],
   "source": [
    "import numpy as np\n",
    "from scipy.interpolate import LinearNDInterpolator, RBFInterpolator, NearestNDInterpolator"
   ]
  },
  {
   "cell_type": "code",
   "execution_count": null,
   "metadata": {},
   "outputs": [],
   "source": [
    "x0 = np.array([[0.5, 0.5, 0.5,0.24999999,0.25000001,0.5,  0.25000001, 0.24999999]])\n",
    "y0 = [[0.5, 0.5, 0.5, 0.5]]\n",
    "NearestNDInterpolator(y0, x0)([0.5, 0.5, 0.2, 0.4])"
   ]
  },
  {
   "cell_type": "code",
   "execution_count": null,
   "metadata": {},
   "outputs": [],
   "source": [
    "f2 = min_pytential(f, vars_out=['c0', 'c1', 'Va', 'Vb'])\n",
    "#f2([[.5,.5,.5,.5],[.4,.6,.5,.5],[.6,.4,.5,.5],[.6,.4,.5,.6]]) "
   ]
  },
  {
   "cell_type": "markdown",
   "metadata": {},
   "source": [
    "Visualization"
   ]
  },
  {
   "cell_type": "code",
   "execution_count": null,
   "metadata": {},
   "outputs": [],
   "source": [
    "from numpy import linspace, vectorize, meshgrid\n",
    "import numpy as np\n",
    "import plotly.graph_objects as go\n",
    "from plotly.subplots import make_subplots\n",
    "\n",
    "c0 = linspace(0.001, 0.999, 3)\n",
    "va = linspace(0.001, 0.999, 3)\n",
    "C0, Va = meshgrid(c0, va)\n",
    "\n",
    "args_matrix = np.array([C0.flatten(), (1 - C0).flatten(), Va.flatten(), (1 - Va).flatten()]).T\n",
    "print(args_matrix)\n",
    "# Compute Z values using the fa function\n",
    "F_flat = f2(args_matrix)\n",
    "print(F_flat)\n",
    "F = F_flat.reshape(C0.shape)"
   ]
  },
  {
   "cell_type": "code",
   "execution_count": 40,
   "metadata": {},
   "outputs": [
    {
     "name": "stdout",
     "output_type": "stream",
     "text": [
      "log(x)\n",
      "log1p(x - 1)\n"
     ]
    },
    {
     "data": {
      "text/plain": [
       "np.float64(-inf)"
      ]
     },
     "execution_count": 40,
     "metadata": {},
     "output_type": "execute_result"
    }
   ],
   "source": [
    "import sympy as sp\n",
    "x = sp.symbols('x')\n",
    "f = sp.log(x)\n",
    "print(f)\n",
    "fcn = sp.lambdify(x, f, 'scipy')\n",
    "fcn(1e-6)\n",
    "\n",
    "fr = replace_log_with_log1p(f)\n",
    "print(fr)\n",
    "fcnr = sp.lambdify(x, fr, 'scipy')\n",
    "fcnr(0)"
   ]
  },
  {
   "cell_type": "code",
   "execution_count": 33,
   "metadata": {},
   "outputs": [],
   "source": [
    "def replace_log_with_log1p(expr):\n",
    "    from sympy.codegen.cfunctions import log1p\n",
    "    return expr.replace(sp.log, lambda arg: log1p(arg - 1))"
   ]
  },
  {
   "cell_type": "code",
   "execution_count": 25,
   "metadata": {},
   "outputs": [
    {
     "name": "stdout",
     "output_type": "stream",
     "text": [
      "log1p(x - 1)\n"
     ]
    }
   ],
   "source": [
    "fr = replace_log_with_log1p(f)\n",
    "print(fr)\n"
   ]
  },
  {
   "cell_type": "code",
   "execution_count": 29,
   "metadata": {},
   "outputs": [
    {
     "name": "stdout",
     "output_type": "stream",
     "text": [
      "log(x)\n"
     ]
    },
    {
     "ename": "TypeError",
     "evalue": "'log' object is not callable",
     "output_type": "error",
     "traceback": [
      "\u001b[1;31m---------------------------------------------------------------------------\u001b[0m",
      "\u001b[1;31mTypeError\u001b[0m                                 Traceback (most recent call last)",
      "Cell \u001b[1;32mIn[29], line 3\u001b[0m\n\u001b[0;32m      1\u001b[0m fcn \u001b[38;5;241m=\u001b[39m sp\u001b[38;5;241m.\u001b[39mlambdify(x, f, \u001b[38;5;124m'\u001b[39m\u001b[38;5;124mscipy\u001b[39m\u001b[38;5;124m'\u001b[39m)\n\u001b[0;32m      2\u001b[0m \u001b[38;5;28mprint\u001b[39m(f)\n\u001b[1;32m----> 3\u001b[0m \u001b[43mf\u001b[49m\u001b[43m(\u001b[49m\u001b[38;5;241;43m.4\u001b[39;49m\u001b[43m)\u001b[49m\n",
      "\u001b[1;31mTypeError\u001b[0m: 'log' object is not callable"
     ]
    }
   ],
   "source": [
    "fcn = sp.lambdify(x, f, 'scipy')\n",
    "print(f)\n",
    "f(.4)"
   ]
  },
  {
   "cell_type": "code",
   "execution_count": null,
   "metadata": {},
   "outputs": [],
   "source": [
    "#fig = make_subplots(rows=1, cols=2, specs=[[{'type': 'surface'}, {'type': 'xy'}]])\n",
    "fig = go.Figure()\n",
    "\n",
    "# Add the 3D surface plot for f\n",
    "fig.add_trace(go.Surface(\n",
    "    z=F, \n",
    "    x=c0, \n",
    "    y=va, \n",
    "    colorscale='Viridis',\n",
    "    contours={\n",
    "        \"x\": {\"show\": True, \"color\": \"white\"},\n",
    "        \"y\": {\"show\": True, \"color\": \"white\"},\n",
    "        \"z\": {\"show\": False, \"color\": \"white\"}\n",
    "    }\n",
    "))\n",
    "\n",
    "fig.add_trace(go.Scatter3d(x=c0, y=[1]*len(c0), z=fa(c0a=c0,c1a=1-c0,Va=1), mode='lines', name='fa', line=dict(color='red', width=4)))\n",
    "fig.add_trace(go.Scatter3d(x=c0, y=[0]*len(c0), z=fb(c0b=c0,c1b=1-c0,Vb=1), mode='lines', name='fb', line=dict(color='blue', width = 4)))\n",
    "\n",
    "# # Add the 2D plot for f_reduced\n",
    "# fig.add_trace(go.Scatter(x=c0, y=fa(c0a=c0,c1a=1-c0,Va=1), mode='lines', name='fa'), row=1, col=2)\n",
    "# fig.add_trace(go.Scatter(x=c0, y=fb(c0b=c0,c1b=1-c0,Vb=1), mode='lines', name='fb'), row=1, col=2)\n",
    "# fig.add_trace(go.Scatter(x=c0, y=f2(c0=c0,c1=1-c0,Va=1, Vb=0), mode='lines', name='fb'), row=1, col=2)\n",
    "\n",
    "# Update layout for the entire figure\n",
    "fig.update_layout(\n",
    "    title='3D Surface Plot of f and 2D Plot of f_reduced',\n",
    "    scene=dict(\n",
    "        xaxis_title='c0',\n",
    "        yaxis_title='Va',\n",
    "        zaxis_title='f',\n",
    "        aspectratio = dict(x=2, y=2, z=1),\n",
    "        camera=dict(projection=dict(type=\"orthographic\"))\n",
    "    ),\n",
    ")\n",
    "fig.show()"
   ]
  },
  {
   "cell_type": "code",
   "execution_count": null,
   "metadata": {},
   "outputs": [],
   "source": [
    "f3 = min_pytential(f, vars_out=['Va', 'Vb'])"
   ]
  },
  {
   "cell_type": "code",
   "execution_count": null,
   "metadata": {},
   "outputs": [],
   "source": [
    "\n",
    "f3(Va=.5,Vb=.5)"
   ]
  },
  {
   "cell_type": "code",
   "execution_count": null,
   "metadata": {},
   "outputs": [],
   "source": []
  }
 ],
 "metadata": {
  "kernelspec": {
   "display_name": "Python 3",
   "language": "python",
   "name": "python3"
  },
  "language_info": {
   "codemirror_mode": {
    "name": "ipython",
    "version": 3
   },
   "file_extension": ".py",
   "mimetype": "text/x-python",
   "name": "python",
   "nbconvert_exporter": "python",
   "pygments_lexer": "ipython3",
   "version": "3.11.9"
  }
 },
 "nbformat": 4,
 "nbformat_minor": 2
}
