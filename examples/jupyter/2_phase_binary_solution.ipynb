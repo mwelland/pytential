{
 "cells": [
  {
   "cell_type": "code",
   "execution_count": 1,
   "metadata": {},
   "outputs": [],
   "source": [
    "from pytential.sympy_pytential import sympy_pytential\n",
    "from pytential.reduce import min_pytential"
   ]
  },
  {
   "cell_type": "code",
   "execution_count": 2,
   "metadata": {},
   "outputs": [
    {
     "name": "stdout",
     "output_type": "stream",
     "text": [
      "Density, rho, not found. Assuming rho = 1\n",
      "Specific volumes, vi, not found. Assuming vi = 1/rho\n",
      "Density, rho, not found. Assuming rho = 1\n",
      "Specific volumes, vi, not found. Assuming vi = 1/rho\n",
      "\n",
      "Variables\n",
      "['c1a', 'c0a', 'Va']\n",
      "\n",
      "Potential\n",
      "    ⎛          ⎛   c0a   ⎞    ⎞                 ⎛   c1a   ⎞\n",
      "c0a⋅⎜2.4942⋅log⎜─────────⎟ + 2⎟ + 2.4942⋅c1a⋅log⎜─────────⎟\n",
      "    ⎝          ⎝c0a + c1a⎠    ⎠                 ⎝c0a + c1a⎠\n",
      "\n",
      "Gradient\n",
      "⎡          ⎛   c1a   ⎞            ⎛   c0a   ⎞       ⎤\n",
      "⎢2.4942⋅log⎜─────────⎟, 2.4942⋅log⎜─────────⎟ + 2, 0⎥\n",
      "⎣          ⎝c0a + c1a⎠            ⎝c0a + c1a⎠       ⎦\n",
      "\n",
      "Hessian\n",
      "⎡   2.4942⋅c0a        -2.4942       ⎤\n",
      "⎢───────────────     ─────────     0⎥\n",
      "⎢c1a⋅(c0a + c1a)     c0a + c1a      ⎥\n",
      "⎢                                   ⎥\n",
      "⎢    -2.4942         2.4942⋅c1a     ⎥\n",
      "⎢   ─────────     ───────────────  0⎥\n",
      "⎢   c0a + c1a     c0a⋅(c0a + c1a)   ⎥\n",
      "⎢                                   ⎥\n",
      "⎣       0                0         0⎦\n",
      "\n",
      "Constraints\n",
      "-Va + 1.0⋅c0a + 1.0⋅c1a\n",
      "\n"
     ]
    }
   ],
   "source": [
    "fa = sympy_pytential.from_properties({'mu0':[2,0]}, {'T':.300}, suffix='a')\n",
    "fb = sympy_pytential.from_properties({'mu0':[0,2]}, {'T':.300}, suffix='b')\n",
    "print(fa)"
   ]
  },
  {
   "cell_type": "markdown",
   "metadata": {},
   "source": [
    "Make a collected function fa+fb with all the variables, and add constraints that the concentrations must sum to ca and cb"
   ]
  },
  {
   "cell_type": "code",
   "execution_count": 3,
   "metadata": {},
   "outputs": [
    {
     "name": "stdout",
     "output_type": "stream",
     "text": [
      "\n",
      "Variables\n",
      "['c1a', 'c0b', 'Va', 'Vb', 'c0a', 'c1b']\n",
      "\n",
      "Potential\n",
      "    ⎛          ⎛   c0a   ⎞    ⎞                 ⎛   c0b   ⎞                 ⎛ \n",
      "c0a⋅⎜2.4942⋅log⎜─────────⎟ + 2⎟ + 2.4942⋅c0b⋅log⎜─────────⎟ + 2.4942⋅c1a⋅log⎜─\n",
      "    ⎝          ⎝c0a + c1a⎠    ⎠                 ⎝c0b + c1b⎠                 ⎝c\n",
      "\n",
      "  c1a   ⎞       ⎛          ⎛   c1b   ⎞    ⎞\n",
      "────────⎟ + c1b⋅⎜2.4942⋅log⎜─────────⎟ + 2⎟\n",
      "0a + c1a⎠       ⎝          ⎝c0b + c1b⎠    ⎠\n",
      "\n",
      "Gradient\n",
      "⎡          ⎛   c1a   ⎞            ⎛   c0b   ⎞                  ⎛   c0a   ⎞    \n",
      "⎢2.4942⋅log⎜─────────⎟, 2.4942⋅log⎜─────────⎟, 0, 0, 2.4942⋅log⎜─────────⎟ + 2\n",
      "⎣          ⎝c0a + c1a⎠            ⎝c0b + c1b⎠                  ⎝c0a + c1a⎠    \n",
      "\n",
      "            ⎛   c1b   ⎞    ⎤\n",
      ", 2.4942⋅log⎜─────────⎟ + 2⎥\n",
      "            ⎝c0b + c1b⎠    ⎦\n",
      "\n",
      "Hessian\n",
      "⎡   2.4942⋅c0a                               -2.4942                     ⎤\n",
      "⎢───────────────         0         0  0     ─────────            0       ⎥\n",
      "⎢c1a⋅(c0a + c1a)                            c0a + c1a                    ⎥\n",
      "⎢                                                                        ⎥\n",
      "⎢                    2.4942⋅c1b                               -2.4942    ⎥\n",
      "⎢       0         ───────────────  0  0         0            ─────────   ⎥\n",
      "⎢                 c0b⋅(c0b + c1b)                            c0b + c1b   ⎥\n",
      "⎢                                                                        ⎥\n",
      "⎢       0                0         0  0         0                0       ⎥\n",
      "⎢                                                                        ⎥\n",
      "⎢       0                0         0  0         0                0       ⎥\n",
      "⎢                                                                        ⎥\n",
      "⎢    -2.4942                                2.4942⋅c1a                   ⎥\n",
      "⎢   ─────────            0         0  0  ───────────────         0       ⎥\n",
      "⎢   c0a + c1a                            c0a⋅(c0a + c1a)                 ⎥\n",
      "⎢                                                                        ⎥\n",
      "⎢                     -2.4942                                2.4942⋅c0b  ⎥\n",
      "⎢       0            ─────────     0  0         0         ───────────────⎥\n",
      "⎣                    c0b + c1b                            c1b⋅(c0b + c1b)⎦\n",
      "\n",
      "Constraints\n",
      "-Va + 1.0⋅c0a + 1.0⋅c1a\n",
      "-Vb + 1.0⋅c0b + 1.0⋅c1b\n",
      "\n",
      "vars ['c1a', 'c0b', 'Va', 'Vb', 'c0a', 'c1b']\n",
      "prefix ['c0', 'c1']\n",
      "\n",
      "Variables\n",
      "['c1', 'c1a', 'c0b', 'Va', 'c0', 'Vb', 'c0a', 'c1b']\n",
      "\n",
      "Potential\n",
      "    ⎛          ⎛   c0a   ⎞    ⎞                 ⎛   c0b   ⎞                 ⎛ \n",
      "c0a⋅⎜2.4942⋅log⎜─────────⎟ + 2⎟ + 2.4942⋅c0b⋅log⎜─────────⎟ + 2.4942⋅c1a⋅log⎜─\n",
      "    ⎝          ⎝c0a + c1a⎠    ⎠                 ⎝c0b + c1b⎠                 ⎝c\n",
      "\n",
      "  c1a   ⎞       ⎛          ⎛   c1b   ⎞    ⎞\n",
      "────────⎟ + c1b⋅⎜2.4942⋅log⎜─────────⎟ + 2⎟\n",
      "0a + c1a⎠       ⎝          ⎝c0b + c1b⎠    ⎠\n",
      "\n",
      "Gradient\n",
      "⎡             ⎛   c1a   ⎞            ⎛   c0b   ⎞                     ⎛   c0a  \n",
      "⎢0, 2.4942⋅log⎜─────────⎟, 2.4942⋅log⎜─────────⎟, 0, 0, 0, 2.4942⋅log⎜────────\n",
      "⎣             ⎝c0a + c1a⎠            ⎝c0b + c1b⎠                     ⎝c0a + c1\n",
      "\n",
      " ⎞                ⎛   c1b   ⎞    ⎤\n",
      "─⎟ + 2, 2.4942⋅log⎜─────────⎟ + 2⎥\n",
      "a⎠                ⎝c0b + c1b⎠    ⎦\n",
      "\n",
      "Hessian\n",
      "⎡0         0                0         0  0  0         0                0      \n",
      "⎢                                                                             \n",
      "⎢      2.4942⋅c0a                                  -2.4942                    \n",
      "⎢0  ───────────────         0         0  0  0     ─────────            0      \n",
      "⎢   c1a⋅(c0a + c1a)                               c0a + c1a                   \n",
      "⎢                                                                             \n",
      "⎢                       2.4942⋅c1b                                  -2.4942   \n",
      "⎢0         0         ───────────────  0  0  0         0            ─────────  \n",
      "⎢                    c0b⋅(c0b + c1b)                               c0b + c1b  \n",
      "⎢                                                                             \n",
      "⎢0         0                0         0  0  0         0                0      \n",
      "⎢                                                                             \n",
      "⎢0         0                0         0  0  0         0                0      \n",
      "⎢                                                                             \n",
      "⎢0         0                0         0  0  0         0                0      \n",
      "⎢                                                                             \n",
      "⎢       -2.4942                                   2.4942⋅c1a                  \n",
      "⎢0     ─────────            0         0  0  0  ───────────────         0      \n",
      "⎢      c0a + c1a                               c0a⋅(c0a + c1a)                \n",
      "⎢                                                                             \n",
      "⎢                        -2.4942                                   2.4942⋅c0b \n",
      "⎢0         0            ─────────     0  0  0         0         ──────────────\n",
      "⎣                       c0b + c1b                               c1b⋅(c0b + c1b\n",
      "\n",
      " ⎤\n",
      " ⎥\n",
      " ⎥\n",
      " ⎥\n",
      " ⎥\n",
      " ⎥\n",
      " ⎥\n",
      " ⎥\n",
      " ⎥\n",
      " ⎥\n",
      " ⎥\n",
      " ⎥\n",
      " ⎥\n",
      " ⎥\n",
      " ⎥\n",
      " ⎥\n",
      " ⎥\n",
      " ⎥\n",
      " ⎥\n",
      " ⎥\n",
      " ⎥\n",
      "─⎥\n",
      ")⎦\n",
      "\n",
      "Constraints\n",
      "-Va + 1.0⋅c0a + 1.0⋅c1a\n",
      "-Vb + 1.0⋅c0b + 1.0⋅c1b\n",
      "-c₀ + c0a + c0b\n",
      "-c₁ + c1a + c1b\n",
      "\n"
     ]
    }
   ],
   "source": [
    "f = fa+fb\n",
    "print(f)\n",
    "f = sympy_pytential.add_constraints(f, ['c0', 'c1'])\n",
    "print(f)"
   ]
  },
  {
   "cell_type": "code",
   "execution_count": 4,
   "metadata": {},
   "outputs": [],
   "source": [
    "f2 = min_pytential(f, vars_out=['c0', 'c1', 'Va', 'Vb'])"
   ]
  },
  {
   "cell_type": "markdown",
   "metadata": {},
   "source": [
    "Visualization"
   ]
  },
  {
   "cell_type": "code",
   "execution_count": 6,
   "metadata": {},
   "outputs": [
    {
     "name": "stderr",
     "output_type": "stream",
     "text": [
      "/usr/lib/python3/dist-packages/scipy/optimize/_trustregion_constr/projections.py:181: UserWarning: Singular Jacobian matrix. Using SVD decomposition to perform the factorizations.\n",
      "  warn('Singular Jacobian matrix. Using SVD decomposition to ' +\n",
      "/usr/lib/python3/dist-packages/scipy/optimize/_hessian_update_strategy.py:182: UserWarning: delta_grad == 0.0. Check if the approximated function is linear. If the function is linear better results can be obtained by defining the Hessian as zero instead of using quasi-Newton approximations.\n",
      "  warn('delta_grad == 0.0. Check if the approximated '\n",
      "/usr/lib/python3/dist-packages/scipy/optimize/_trustregion_constr/projections.py:181: UserWarning: Singular Jacobian matrix. Using SVD decomposition to perform the factorizations.\n",
      "  warn('Singular Jacobian matrix. Using SVD decomposition to ' +\n",
      "/usr/lib/python3/dist-packages/scipy/optimize/_hessian_update_strategy.py:182: UserWarning: delta_grad == 0.0. Check if the approximated function is linear. If the function is linear better results can be obtained by defining the Hessian as zero instead of using quasi-Newton approximations.\n",
      "  warn('delta_grad == 0.0. Check if the approximated '\n",
      "/usr/lib/python3/dist-packages/scipy/optimize/_trustregion_constr/projections.py:181: UserWarning: Singular Jacobian matrix. Using SVD decomposition to perform the factorizations.\n",
      "  warn('Singular Jacobian matrix. Using SVD decomposition to ' +\n",
      "/usr/lib/python3/dist-packages/scipy/optimize/_hessian_update_strategy.py:182: UserWarning: delta_grad == 0.0. Check if the approximated function is linear. If the function is linear better results can be obtained by defining the Hessian as zero instead of using quasi-Newton approximations.\n",
      "  warn('delta_grad == 0.0. Check if the approximated '\n",
      "/usr/lib/python3/dist-packages/scipy/optimize/_trustregion_constr/projections.py:181: UserWarning: Singular Jacobian matrix. Using SVD decomposition to perform the factorizations.\n",
      "  warn('Singular Jacobian matrix. Using SVD decomposition to ' +\n",
      "/usr/lib/python3/dist-packages/scipy/optimize/_hessian_update_strategy.py:182: UserWarning: delta_grad == 0.0. Check if the approximated function is linear. If the function is linear better results can be obtained by defining the Hessian as zero instead of using quasi-Newton approximations.\n",
      "  warn('delta_grad == 0.0. Check if the approximated '\n",
      "/usr/lib/python3/dist-packages/scipy/optimize/_trustregion_constr/projections.py:181: UserWarning: Singular Jacobian matrix. Using SVD decomposition to perform the factorizations.\n",
      "  warn('Singular Jacobian matrix. Using SVD decomposition to ' +\n",
      "/usr/lib/python3/dist-packages/scipy/optimize/_hessian_update_strategy.py:182: UserWarning: delta_grad == 0.0. Check if the approximated function is linear. If the function is linear better results can be obtained by defining the Hessian as zero instead of using quasi-Newton approximations.\n",
      "  warn('delta_grad == 0.0. Check if the approximated '\n",
      "/usr/lib/python3/dist-packages/scipy/optimize/_trustregion_constr/projections.py:181: UserWarning: Singular Jacobian matrix. Using SVD decomposition to perform the factorizations.\n",
      "  warn('Singular Jacobian matrix. Using SVD decomposition to ' +\n",
      "/usr/lib/python3/dist-packages/scipy/optimize/_hessian_update_strategy.py:182: UserWarning: delta_grad == 0.0. Check if the approximated function is linear. If the function is linear better results can be obtained by defining the Hessian as zero instead of using quasi-Newton approximations.\n",
      "  warn('delta_grad == 0.0. Check if the approximated '\n",
      "/usr/lib/python3/dist-packages/scipy/optimize/_trustregion_constr/projections.py:181: UserWarning: Singular Jacobian matrix. Using SVD decomposition to perform the factorizations.\n",
      "  warn('Singular Jacobian matrix. Using SVD decomposition to ' +\n",
      "/usr/lib/python3/dist-packages/scipy/optimize/_hessian_update_strategy.py:182: UserWarning: delta_grad == 0.0. Check if the approximated function is linear. If the function is linear better results can be obtained by defining the Hessian as zero instead of using quasi-Newton approximations.\n",
      "  warn('delta_grad == 0.0. Check if the approximated '\n",
      "/usr/lib/python3/dist-packages/scipy/optimize/_trustregion_constr/projections.py:181: UserWarning: Singular Jacobian matrix. Using SVD decomposition to perform the factorizations.\n",
      "  warn('Singular Jacobian matrix. Using SVD decomposition to ' +\n",
      "/usr/lib/python3/dist-packages/scipy/optimize/_hessian_update_strategy.py:182: UserWarning: delta_grad == 0.0. Check if the approximated function is linear. If the function is linear better results can be obtained by defining the Hessian as zero instead of using quasi-Newton approximations.\n",
      "  warn('delta_grad == 0.0. Check if the approximated '\n",
      "/usr/lib/python3/dist-packages/scipy/optimize/_trustregion_constr/projections.py:181: UserWarning: Singular Jacobian matrix. Using SVD decomposition to perform the factorizations.\n",
      "  warn('Singular Jacobian matrix. Using SVD decomposition to ' +\n",
      "/usr/lib/python3/dist-packages/scipy/optimize/_hessian_update_strategy.py:182: UserWarning: delta_grad == 0.0. Check if the approximated function is linear. If the function is linear better results can be obtained by defining the Hessian as zero instead of using quasi-Newton approximations.\n",
      "  warn('delta_grad == 0.0. Check if the approximated '\n",
      "/usr/lib/python3/dist-packages/scipy/optimize/_trustregion_constr/projections.py:181: UserWarning: Singular Jacobian matrix. Using SVD decomposition to perform the factorizations.\n",
      "  warn('Singular Jacobian matrix. Using SVD decomposition to ' +\n",
      "/usr/lib/python3/dist-packages/scipy/optimize/_hessian_update_strategy.py:182: UserWarning: delta_grad == 0.0. Check if the approximated function is linear. If the function is linear better results can be obtained by defining the Hessian as zero instead of using quasi-Newton approximations.\n",
      "  warn('delta_grad == 0.0. Check if the approximated '\n",
      "/usr/lib/python3/dist-packages/scipy/optimize/_trustregion_constr/projections.py:181: UserWarning: Singular Jacobian matrix. Using SVD decomposition to perform the factorizations.\n",
      "  warn('Singular Jacobian matrix. Using SVD decomposition to ' +\n",
      "/usr/lib/python3/dist-packages/scipy/optimize/_hessian_update_strategy.py:182: UserWarning: delta_grad == 0.0. Check if the approximated function is linear. If the function is linear better results can be obtained by defining the Hessian as zero instead of using quasi-Newton approximations.\n",
      "  warn('delta_grad == 0.0. Check if the approximated '\n",
      "/usr/lib/python3/dist-packages/scipy/optimize/_trustregion_constr/projections.py:181: UserWarning: Singular Jacobian matrix. Using SVD decomposition to perform the factorizations.\n",
      "  warn('Singular Jacobian matrix. Using SVD decomposition to ' +\n",
      "/usr/lib/python3/dist-packages/scipy/optimize/_hessian_update_strategy.py:182: UserWarning: delta_grad == 0.0. Check if the approximated function is linear. If the function is linear better results can be obtained by defining the Hessian as zero instead of using quasi-Newton approximations.\n",
      "  warn('delta_grad == 0.0. Check if the approximated '\n",
      "/usr/lib/python3/dist-packages/scipy/optimize/_trustregion_constr/projections.py:181: UserWarning: Singular Jacobian matrix. Using SVD decomposition to perform the factorizations.\n",
      "  warn('Singular Jacobian matrix. Using SVD decomposition to ' +\n",
      "/usr/lib/python3/dist-packages/scipy/optimize/_hessian_update_strategy.py:182: UserWarning: delta_grad == 0.0. Check if the approximated function is linear. If the function is linear better results can be obtained by defining the Hessian as zero instead of using quasi-Newton approximations.\n",
      "  warn('delta_grad == 0.0. Check if the approximated '\n",
      "/usr/lib/python3/dist-packages/scipy/optimize/_trustregion_constr/projections.py:181: UserWarning: Singular Jacobian matrix. Using SVD decomposition to perform the factorizations.\n",
      "  warn('Singular Jacobian matrix. Using SVD decomposition to ' +\n",
      "/usr/lib/python3/dist-packages/scipy/optimize/_hessian_update_strategy.py:182: UserWarning: delta_grad == 0.0. Check if the approximated function is linear. If the function is linear better results can be obtained by defining the Hessian as zero instead of using quasi-Newton approximations.\n",
      "  warn('delta_grad == 0.0. Check if the approximated '\n",
      "/usr/lib/python3/dist-packages/scipy/optimize/_trustregion_constr/projections.py:181: UserWarning: Singular Jacobian matrix. Using SVD decomposition to perform the factorizations.\n",
      "  warn('Singular Jacobian matrix. Using SVD decomposition to ' +\n",
      "/usr/lib/python3/dist-packages/scipy/optimize/_hessian_update_strategy.py:182: UserWarning: delta_grad == 0.0. Check if the approximated function is linear. If the function is linear better results can be obtained by defining the Hessian as zero instead of using quasi-Newton approximations.\n",
      "  warn('delta_grad == 0.0. Check if the approximated '\n",
      "/usr/lib/python3/dist-packages/scipy/optimize/_trustregion_constr/projections.py:181: UserWarning: Singular Jacobian matrix. Using SVD decomposition to perform the factorizations.\n",
      "  warn('Singular Jacobian matrix. Using SVD decomposition to ' +\n",
      "/usr/lib/python3/dist-packages/scipy/optimize/_hessian_update_strategy.py:182: UserWarning: delta_grad == 0.0. Check if the approximated function is linear. If the function is linear better results can be obtained by defining the Hessian as zero instead of using quasi-Newton approximations.\n",
      "  warn('delta_grad == 0.0. Check if the approximated '\n",
      "/usr/lib/python3/dist-packages/scipy/optimize/_trustregion_constr/projections.py:181: UserWarning: Singular Jacobian matrix. Using SVD decomposition to perform the factorizations.\n",
      "  warn('Singular Jacobian matrix. Using SVD decomposition to ' +\n",
      "/usr/lib/python3/dist-packages/scipy/optimize/_hessian_update_strategy.py:182: UserWarning: delta_grad == 0.0. Check if the approximated function is linear. If the function is linear better results can be obtained by defining the Hessian as zero instead of using quasi-Newton approximations.\n",
      "  warn('delta_grad == 0.0. Check if the approximated '\n",
      "/usr/lib/python3/dist-packages/scipy/optimize/_trustregion_constr/projections.py:181: UserWarning: Singular Jacobian matrix. Using SVD decomposition to perform the factorizations.\n",
      "  warn('Singular Jacobian matrix. Using SVD decomposition to ' +\n",
      "/usr/lib/python3/dist-packages/scipy/optimize/_hessian_update_strategy.py:182: UserWarning: delta_grad == 0.0. Check if the approximated function is linear. If the function is linear better results can be obtained by defining the Hessian as zero instead of using quasi-Newton approximations.\n",
      "  warn('delta_grad == 0.0. Check if the approximated '\n",
      "/usr/lib/python3/dist-packages/scipy/optimize/_trustregion_constr/projections.py:181: UserWarning: Singular Jacobian matrix. Using SVD decomposition to perform the factorizations.\n",
      "  warn('Singular Jacobian matrix. Using SVD decomposition to ' +\n",
      "/usr/lib/python3/dist-packages/scipy/optimize/_hessian_update_strategy.py:182: UserWarning: delta_grad == 0.0. Check if the approximated function is linear. If the function is linear better results can be obtained by defining the Hessian as zero instead of using quasi-Newton approximations.\n",
      "  warn('delta_grad == 0.0. Check if the approximated '\n",
      "/usr/lib/python3/dist-packages/scipy/optimize/_trustregion_constr/projections.py:181: UserWarning: Singular Jacobian matrix. Using SVD decomposition to perform the factorizations.\n",
      "  warn('Singular Jacobian matrix. Using SVD decomposition to ' +\n",
      "/usr/lib/python3/dist-packages/scipy/optimize/_hessian_update_strategy.py:182: UserWarning: delta_grad == 0.0. Check if the approximated function is linear. If the function is linear better results can be obtained by defining the Hessian as zero instead of using quasi-Newton approximations.\n",
      "  warn('delta_grad == 0.0. Check if the approximated '\n",
      "/usr/lib/python3/dist-packages/scipy/optimize/_trustregion_constr/projections.py:181: UserWarning: Singular Jacobian matrix. Using SVD decomposition to perform the factorizations.\n",
      "  warn('Singular Jacobian matrix. Using SVD decomposition to ' +\n",
      "/usr/lib/python3/dist-packages/scipy/optimize/_hessian_update_strategy.py:182: UserWarning: delta_grad == 0.0. Check if the approximated function is linear. If the function is linear better results can be obtained by defining the Hessian as zero instead of using quasi-Newton approximations.\n",
      "  warn('delta_grad == 0.0. Check if the approximated '\n",
      "/usr/lib/python3/dist-packages/scipy/optimize/_trustregion_constr/projections.py:181: UserWarning: Singular Jacobian matrix. Using SVD decomposition to perform the factorizations.\n",
      "  warn('Singular Jacobian matrix. Using SVD decomposition to ' +\n",
      "/usr/lib/python3/dist-packages/scipy/optimize/_hessian_update_strategy.py:182: UserWarning: delta_grad == 0.0. Check if the approximated function is linear. If the function is linear better results can be obtained by defining the Hessian as zero instead of using quasi-Newton approximations.\n",
      "  warn('delta_grad == 0.0. Check if the approximated '\n",
      "/usr/lib/python3/dist-packages/scipy/optimize/_trustregion_constr/projections.py:181: UserWarning: Singular Jacobian matrix. Using SVD decomposition to perform the factorizations.\n",
      "  warn('Singular Jacobian matrix. Using SVD decomposition to ' +\n",
      "/usr/lib/python3/dist-packages/scipy/optimize/_hessian_update_strategy.py:182: UserWarning: delta_grad == 0.0. Check if the approximated function is linear. If the function is linear better results can be obtained by defining the Hessian as zero instead of using quasi-Newton approximations.\n",
      "  warn('delta_grad == 0.0. Check if the approximated '\n",
      "/usr/lib/python3/dist-packages/scipy/optimize/_trustregion_constr/projections.py:181: UserWarning: Singular Jacobian matrix. Using SVD decomposition to perform the factorizations.\n",
      "  warn('Singular Jacobian matrix. Using SVD decomposition to ' +\n",
      "/usr/lib/python3/dist-packages/scipy/optimize/_hessian_update_strategy.py:182: UserWarning: delta_grad == 0.0. Check if the approximated function is linear. If the function is linear better results can be obtained by defining the Hessian as zero instead of using quasi-Newton approximations.\n",
      "  warn('delta_grad == 0.0. Check if the approximated '\n",
      "/usr/lib/python3/dist-packages/scipy/optimize/_trustregion_constr/projections.py:181: UserWarning: Singular Jacobian matrix. Using SVD decomposition to perform the factorizations.\n",
      "  warn('Singular Jacobian matrix. Using SVD decomposition to ' +\n",
      "/usr/lib/python3/dist-packages/scipy/optimize/_hessian_update_strategy.py:182: UserWarning: delta_grad == 0.0. Check if the approximated function is linear. If the function is linear better results can be obtained by defining the Hessian as zero instead of using quasi-Newton approximations.\n",
      "  warn('delta_grad == 0.0. Check if the approximated '\n",
      "/usr/lib/python3/dist-packages/scipy/optimize/_trustregion_constr/projections.py:181: UserWarning: Singular Jacobian matrix. Using SVD decomposition to perform the factorizations.\n",
      "  warn('Singular Jacobian matrix. Using SVD decomposition to ' +\n",
      "/usr/lib/python3/dist-packages/scipy/optimize/_hessian_update_strategy.py:182: UserWarning: delta_grad == 0.0. Check if the approximated function is linear. If the function is linear better results can be obtained by defining the Hessian as zero instead of using quasi-Newton approximations.\n",
      "  warn('delta_grad == 0.0. Check if the approximated '\n",
      "/usr/lib/python3/dist-packages/scipy/optimize/_trustregion_constr/projections.py:181: UserWarning: Singular Jacobian matrix. Using SVD decomposition to perform the factorizations.\n",
      "  warn('Singular Jacobian matrix. Using SVD decomposition to ' +\n",
      "/usr/lib/python3/dist-packages/scipy/optimize/_hessian_update_strategy.py:182: UserWarning: delta_grad == 0.0. Check if the approximated function is linear. If the function is linear better results can be obtained by defining the Hessian as zero instead of using quasi-Newton approximations.\n",
      "  warn('delta_grad == 0.0. Check if the approximated '\n",
      "/usr/lib/python3/dist-packages/scipy/optimize/_trustregion_constr/projections.py:181: UserWarning: Singular Jacobian matrix. Using SVD decomposition to perform the factorizations.\n",
      "  warn('Singular Jacobian matrix. Using SVD decomposition to ' +\n",
      "/usr/lib/python3/dist-packages/scipy/optimize/_hessian_update_strategy.py:182: UserWarning: delta_grad == 0.0. Check if the approximated function is linear. If the function is linear better results can be obtained by defining the Hessian as zero instead of using quasi-Newton approximations.\n",
      "  warn('delta_grad == 0.0. Check if the approximated '\n",
      "/usr/lib/python3/dist-packages/scipy/optimize/_trustregion_constr/projections.py:181: UserWarning: Singular Jacobian matrix. Using SVD decomposition to perform the factorizations.\n",
      "  warn('Singular Jacobian matrix. Using SVD decomposition to ' +\n",
      "/usr/lib/python3/dist-packages/scipy/optimize/_hessian_update_strategy.py:182: UserWarning: delta_grad == 0.0. Check if the approximated function is linear. If the function is linear better results can be obtained by defining the Hessian as zero instead of using quasi-Newton approximations.\n",
      "  warn('delta_grad == 0.0. Check if the approximated '\n",
      "/usr/lib/python3/dist-packages/scipy/optimize/_trustregion_constr/projections.py:181: UserWarning: Singular Jacobian matrix. Using SVD decomposition to perform the factorizations.\n",
      "  warn('Singular Jacobian matrix. Using SVD decomposition to ' +\n",
      "/usr/lib/python3/dist-packages/scipy/optimize/_hessian_update_strategy.py:182: UserWarning: delta_grad == 0.0. Check if the approximated function is linear. If the function is linear better results can be obtained by defining the Hessian as zero instead of using quasi-Newton approximations.\n",
      "  warn('delta_grad == 0.0. Check if the approximated '\n",
      "/usr/lib/python3/dist-packages/scipy/optimize/_trustregion_constr/projections.py:181: UserWarning: Singular Jacobian matrix. Using SVD decomposition to perform the factorizations.\n",
      "  warn('Singular Jacobian matrix. Using SVD decomposition to ' +\n",
      "/usr/lib/python3/dist-packages/scipy/optimize/_hessian_update_strategy.py:182: UserWarning: delta_grad == 0.0. Check if the approximated function is linear. If the function is linear better results can be obtained by defining the Hessian as zero instead of using quasi-Newton approximations.\n",
      "  warn('delta_grad == 0.0. Check if the approximated '\n",
      "/usr/lib/python3/dist-packages/scipy/optimize/_trustregion_constr/projections.py:181: UserWarning: Singular Jacobian matrix. Using SVD decomposition to perform the factorizations.\n",
      "  warn('Singular Jacobian matrix. Using SVD decomposition to ' +\n",
      "/usr/lib/python3/dist-packages/scipy/optimize/_hessian_update_strategy.py:182: UserWarning: delta_grad == 0.0. Check if the approximated function is linear. If the function is linear better results can be obtained by defining the Hessian as zero instead of using quasi-Newton approximations.\n",
      "  warn('delta_grad == 0.0. Check if the approximated '\n",
      "/usr/lib/python3/dist-packages/scipy/optimize/_trustregion_constr/projections.py:181: UserWarning: Singular Jacobian matrix. Using SVD decomposition to perform the factorizations.\n",
      "  warn('Singular Jacobian matrix. Using SVD decomposition to ' +\n",
      "/usr/lib/python3/dist-packages/scipy/optimize/_hessian_update_strategy.py:182: UserWarning: delta_grad == 0.0. Check if the approximated function is linear. If the function is linear better results can be obtained by defining the Hessian as zero instead of using quasi-Newton approximations.\n",
      "  warn('delta_grad == 0.0. Check if the approximated '\n",
      "/usr/lib/python3/dist-packages/scipy/optimize/_trustregion_constr/projections.py:181: UserWarning: Singular Jacobian matrix. Using SVD decomposition to perform the factorizations.\n",
      "  warn('Singular Jacobian matrix. Using SVD decomposition to ' +\n",
      "/usr/lib/python3/dist-packages/scipy/optimize/_hessian_update_strategy.py:182: UserWarning: delta_grad == 0.0. Check if the approximated function is linear. If the function is linear better results can be obtained by defining the Hessian as zero instead of using quasi-Newton approximations.\n",
      "  warn('delta_grad == 0.0. Check if the approximated '\n",
      "/usr/lib/python3/dist-packages/scipy/optimize/_trustregion_constr/projections.py:181: UserWarning: Singular Jacobian matrix. Using SVD decomposition to perform the factorizations.\n",
      "  warn('Singular Jacobian matrix. Using SVD decomposition to ' +\n",
      "/usr/lib/python3/dist-packages/scipy/optimize/_hessian_update_strategy.py:182: UserWarning: delta_grad == 0.0. Check if the approximated function is linear. If the function is linear better results can be obtained by defining the Hessian as zero instead of using quasi-Newton approximations.\n",
      "  warn('delta_grad == 0.0. Check if the approximated '\n",
      "/usr/lib/python3/dist-packages/scipy/optimize/_trustregion_constr/projections.py:181: UserWarning: Singular Jacobian matrix. Using SVD decomposition to perform the factorizations.\n",
      "  warn('Singular Jacobian matrix. Using SVD decomposition to ' +\n",
      "/usr/lib/python3/dist-packages/scipy/optimize/_hessian_update_strategy.py:182: UserWarning: delta_grad == 0.0. Check if the approximated function is linear. If the function is linear better results can be obtained by defining the Hessian as zero instead of using quasi-Newton approximations.\n",
      "  warn('delta_grad == 0.0. Check if the approximated '\n",
      "/usr/lib/python3/dist-packages/scipy/optimize/_trustregion_constr/projections.py:181: UserWarning: Singular Jacobian matrix. Using SVD decomposition to perform the factorizations.\n",
      "  warn('Singular Jacobian matrix. Using SVD decomposition to ' +\n",
      "/usr/lib/python3/dist-packages/scipy/optimize/_hessian_update_strategy.py:182: UserWarning: delta_grad == 0.0. Check if the approximated function is linear. If the function is linear better results can be obtained by defining the Hessian as zero instead of using quasi-Newton approximations.\n",
      "  warn('delta_grad == 0.0. Check if the approximated '\n",
      "/usr/lib/python3/dist-packages/scipy/optimize/_trustregion_constr/projections.py:181: UserWarning: Singular Jacobian matrix. Using SVD decomposition to perform the factorizations.\n",
      "  warn('Singular Jacobian matrix. Using SVD decomposition to ' +\n",
      "/usr/lib/python3/dist-packages/scipy/optimize/_hessian_update_strategy.py:182: UserWarning: delta_grad == 0.0. Check if the approximated function is linear. If the function is linear better results can be obtained by defining the Hessian as zero instead of using quasi-Newton approximations.\n",
      "  warn('delta_grad == 0.0. Check if the approximated '\n",
      "/usr/lib/python3/dist-packages/scipy/optimize/_trustregion_constr/projections.py:181: UserWarning: Singular Jacobian matrix. Using SVD decomposition to perform the factorizations.\n",
      "  warn('Singular Jacobian matrix. Using SVD decomposition to ' +\n",
      "/usr/lib/python3/dist-packages/scipy/optimize/_hessian_update_strategy.py:182: UserWarning: delta_grad == 0.0. Check if the approximated function is linear. If the function is linear better results can be obtained by defining the Hessian as zero instead of using quasi-Newton approximations.\n",
      "  warn('delta_grad == 0.0. Check if the approximated '\n",
      "/usr/lib/python3/dist-packages/scipy/optimize/_trustregion_constr/projections.py:181: UserWarning: Singular Jacobian matrix. Using SVD decomposition to perform the factorizations.\n",
      "  warn('Singular Jacobian matrix. Using SVD decomposition to ' +\n",
      "/usr/lib/python3/dist-packages/scipy/optimize/_hessian_update_strategy.py:182: UserWarning: delta_grad == 0.0. Check if the approximated function is linear. If the function is linear better results can be obtained by defining the Hessian as zero instead of using quasi-Newton approximations.\n",
      "  warn('delta_grad == 0.0. Check if the approximated '\n",
      "/usr/lib/python3/dist-packages/scipy/optimize/_trustregion_constr/projections.py:181: UserWarning: Singular Jacobian matrix. Using SVD decomposition to perform the factorizations.\n",
      "  warn('Singular Jacobian matrix. Using SVD decomposition to ' +\n",
      "/usr/lib/python3/dist-packages/scipy/optimize/_hessian_update_strategy.py:182: UserWarning: delta_grad == 0.0. Check if the approximated function is linear. If the function is linear better results can be obtained by defining the Hessian as zero instead of using quasi-Newton approximations.\n",
      "  warn('delta_grad == 0.0. Check if the approximated '\n",
      "/usr/lib/python3/dist-packages/scipy/optimize/_trustregion_constr/projections.py:181: UserWarning: Singular Jacobian matrix. Using SVD decomposition to perform the factorizations.\n",
      "  warn('Singular Jacobian matrix. Using SVD decomposition to ' +\n",
      "/usr/lib/python3/dist-packages/scipy/optimize/_hessian_update_strategy.py:182: UserWarning: delta_grad == 0.0. Check if the approximated function is linear. If the function is linear better results can be obtained by defining the Hessian as zero instead of using quasi-Newton approximations.\n",
      "  warn('delta_grad == 0.0. Check if the approximated '\n",
      "/usr/lib/python3/dist-packages/scipy/optimize/_trustregion_constr/projections.py:181: UserWarning: Singular Jacobian matrix. Using SVD decomposition to perform the factorizations.\n",
      "  warn('Singular Jacobian matrix. Using SVD decomposition to ' +\n",
      "/usr/lib/python3/dist-packages/scipy/optimize/_hessian_update_strategy.py:182: UserWarning: delta_grad == 0.0. Check if the approximated function is linear. If the function is linear better results can be obtained by defining the Hessian as zero instead of using quasi-Newton approximations.\n",
      "  warn('delta_grad == 0.0. Check if the approximated '\n",
      "/usr/lib/python3/dist-packages/scipy/optimize/_trustregion_constr/projections.py:181: UserWarning: Singular Jacobian matrix. Using SVD decomposition to perform the factorizations.\n",
      "  warn('Singular Jacobian matrix. Using SVD decomposition to ' +\n",
      "/usr/lib/python3/dist-packages/scipy/optimize/_hessian_update_strategy.py:182: UserWarning: delta_grad == 0.0. Check if the approximated function is linear. If the function is linear better results can be obtained by defining the Hessian as zero instead of using quasi-Newton approximations.\n",
      "  warn('delta_grad == 0.0. Check if the approximated '\n",
      "/usr/lib/python3/dist-packages/scipy/optimize/_trustregion_constr/projections.py:181: UserWarning: Singular Jacobian matrix. Using SVD decomposition to perform the factorizations.\n",
      "  warn('Singular Jacobian matrix. Using SVD decomposition to ' +\n",
      "/usr/lib/python3/dist-packages/scipy/optimize/_hessian_update_strategy.py:182: UserWarning: delta_grad == 0.0. Check if the approximated function is linear. If the function is linear better results can be obtained by defining the Hessian as zero instead of using quasi-Newton approximations.\n",
      "  warn('delta_grad == 0.0. Check if the approximated '\n",
      "/usr/lib/python3/dist-packages/scipy/optimize/_trustregion_constr/projections.py:181: UserWarning: Singular Jacobian matrix. Using SVD decomposition to perform the factorizations.\n",
      "  warn('Singular Jacobian matrix. Using SVD decomposition to ' +\n",
      "/usr/lib/python3/dist-packages/scipy/optimize/_hessian_update_strategy.py:182: UserWarning: delta_grad == 0.0. Check if the approximated function is linear. If the function is linear better results can be obtained by defining the Hessian as zero instead of using quasi-Newton approximations.\n",
      "  warn('delta_grad == 0.0. Check if the approximated '\n",
      "/usr/lib/python3/dist-packages/scipy/optimize/_trustregion_constr/projections.py:181: UserWarning: Singular Jacobian matrix. Using SVD decomposition to perform the factorizations.\n",
      "  warn('Singular Jacobian matrix. Using SVD decomposition to ' +\n",
      "/usr/lib/python3/dist-packages/scipy/optimize/_hessian_update_strategy.py:182: UserWarning: delta_grad == 0.0. Check if the approximated function is linear. If the function is linear better results can be obtained by defining the Hessian as zero instead of using quasi-Newton approximations.\n",
      "  warn('delta_grad == 0.0. Check if the approximated '\n",
      "/usr/lib/python3/dist-packages/scipy/optimize/_trustregion_constr/projections.py:181: UserWarning: Singular Jacobian matrix. Using SVD decomposition to perform the factorizations.\n",
      "  warn('Singular Jacobian matrix. Using SVD decomposition to ' +\n",
      "/usr/lib/python3/dist-packages/scipy/optimize/_hessian_update_strategy.py:182: UserWarning: delta_grad == 0.0. Check if the approximated function is linear. If the function is linear better results can be obtained by defining the Hessian as zero instead of using quasi-Newton approximations.\n",
      "  warn('delta_grad == 0.0. Check if the approximated '\n",
      "/usr/lib/python3/dist-packages/scipy/optimize/_trustregion_constr/projections.py:181: UserWarning: Singular Jacobian matrix. Using SVD decomposition to perform the factorizations.\n",
      "  warn('Singular Jacobian matrix. Using SVD decomposition to ' +\n",
      "/usr/lib/python3/dist-packages/scipy/optimize/_hessian_update_strategy.py:182: UserWarning: delta_grad == 0.0. Check if the approximated function is linear. If the function is linear better results can be obtained by defining the Hessian as zero instead of using quasi-Newton approximations.\n",
      "  warn('delta_grad == 0.0. Check if the approximated '\n",
      "/usr/lib/python3/dist-packages/scipy/optimize/_trustregion_constr/projections.py:181: UserWarning: Singular Jacobian matrix. Using SVD decomposition to perform the factorizations.\n",
      "  warn('Singular Jacobian matrix. Using SVD decomposition to ' +\n",
      "/usr/lib/python3/dist-packages/scipy/optimize/_hessian_update_strategy.py:182: UserWarning: delta_grad == 0.0. Check if the approximated function is linear. If the function is linear better results can be obtained by defining the Hessian as zero instead of using quasi-Newton approximations.\n",
      "  warn('delta_grad == 0.0. Check if the approximated '\n",
      "/usr/lib/python3/dist-packages/scipy/optimize/_trustregion_constr/projections.py:181: UserWarning: Singular Jacobian matrix. Using SVD decomposition to perform the factorizations.\n",
      "  warn('Singular Jacobian matrix. Using SVD decomposition to ' +\n",
      "/usr/lib/python3/dist-packages/scipy/optimize/_hessian_update_strategy.py:182: UserWarning: delta_grad == 0.0. Check if the approximated function is linear. If the function is linear better results can be obtained by defining the Hessian as zero instead of using quasi-Newton approximations.\n",
      "  warn('delta_grad == 0.0. Check if the approximated '\n",
      "/usr/lib/python3/dist-packages/scipy/optimize/_trustregion_constr/projections.py:181: UserWarning: Singular Jacobian matrix. Using SVD decomposition to perform the factorizations.\n",
      "  warn('Singular Jacobian matrix. Using SVD decomposition to ' +\n",
      "/usr/lib/python3/dist-packages/scipy/optimize/_hessian_update_strategy.py:182: UserWarning: delta_grad == 0.0. Check if the approximated function is linear. If the function is linear better results can be obtained by defining the Hessian as zero instead of using quasi-Newton approximations.\n",
      "  warn('delta_grad == 0.0. Check if the approximated '\n",
      "/usr/lib/python3/dist-packages/scipy/optimize/_trustregion_constr/projections.py:181: UserWarning: Singular Jacobian matrix. Using SVD decomposition to perform the factorizations.\n",
      "  warn('Singular Jacobian matrix. Using SVD decomposition to ' +\n",
      "/usr/lib/python3/dist-packages/scipy/optimize/_hessian_update_strategy.py:182: UserWarning: delta_grad == 0.0. Check if the approximated function is linear. If the function is linear better results can be obtained by defining the Hessian as zero instead of using quasi-Newton approximations.\n",
      "  warn('delta_grad == 0.0. Check if the approximated '\n",
      "/usr/lib/python3/dist-packages/scipy/optimize/_trustregion_constr/projections.py:181: UserWarning: Singular Jacobian matrix. Using SVD decomposition to perform the factorizations.\n",
      "  warn('Singular Jacobian matrix. Using SVD decomposition to ' +\n",
      "/usr/lib/python3/dist-packages/scipy/optimize/_hessian_update_strategy.py:182: UserWarning: delta_grad == 0.0. Check if the approximated function is linear. If the function is linear better results can be obtained by defining the Hessian as zero instead of using quasi-Newton approximations.\n",
      "  warn('delta_grad == 0.0. Check if the approximated '\n",
      "/usr/lib/python3/dist-packages/scipy/optimize/_trustregion_constr/projections.py:181: UserWarning: Singular Jacobian matrix. Using SVD decomposition to perform the factorizations.\n",
      "  warn('Singular Jacobian matrix. Using SVD decomposition to ' +\n",
      "/usr/lib/python3/dist-packages/scipy/optimize/_hessian_update_strategy.py:182: UserWarning: delta_grad == 0.0. Check if the approximated function is linear. If the function is linear better results can be obtained by defining the Hessian as zero instead of using quasi-Newton approximations.\n",
      "  warn('delta_grad == 0.0. Check if the approximated '\n",
      "/usr/lib/python3/dist-packages/scipy/optimize/_trustregion_constr/projections.py:181: UserWarning: Singular Jacobian matrix. Using SVD decomposition to perform the factorizations.\n",
      "  warn('Singular Jacobian matrix. Using SVD decomposition to ' +\n",
      "/usr/lib/python3/dist-packages/scipy/optimize/_hessian_update_strategy.py:182: UserWarning: delta_grad == 0.0. Check if the approximated function is linear. If the function is linear better results can be obtained by defining the Hessian as zero instead of using quasi-Newton approximations.\n",
      "  warn('delta_grad == 0.0. Check if the approximated '\n",
      "/usr/lib/python3/dist-packages/scipy/optimize/_trustregion_constr/projections.py:181: UserWarning: Singular Jacobian matrix. Using SVD decomposition to perform the factorizations.\n",
      "  warn('Singular Jacobian matrix. Using SVD decomposition to ' +\n",
      "/usr/lib/python3/dist-packages/scipy/optimize/_hessian_update_strategy.py:182: UserWarning: delta_grad == 0.0. Check if the approximated function is linear. If the function is linear better results can be obtained by defining the Hessian as zero instead of using quasi-Newton approximations.\n",
      "  warn('delta_grad == 0.0. Check if the approximated '\n",
      "/usr/lib/python3/dist-packages/scipy/optimize/_trustregion_constr/projections.py:181: UserWarning: Singular Jacobian matrix. Using SVD decomposition to perform the factorizations.\n",
      "  warn('Singular Jacobian matrix. Using SVD decomposition to ' +\n",
      "/usr/lib/python3/dist-packages/scipy/optimize/_hessian_update_strategy.py:182: UserWarning: delta_grad == 0.0. Check if the approximated function is linear. If the function is linear better results can be obtained by defining the Hessian as zero instead of using quasi-Newton approximations.\n",
      "  warn('delta_grad == 0.0. Check if the approximated '\n",
      "/usr/lib/python3/dist-packages/scipy/optimize/_trustregion_constr/projections.py:181: UserWarning: Singular Jacobian matrix. Using SVD decomposition to perform the factorizations.\n",
      "  warn('Singular Jacobian matrix. Using SVD decomposition to ' +\n",
      "/usr/lib/python3/dist-packages/scipy/optimize/_hessian_update_strategy.py:182: UserWarning: delta_grad == 0.0. Check if the approximated function is linear. If the function is linear better results can be obtained by defining the Hessian as zero instead of using quasi-Newton approximations.\n",
      "  warn('delta_grad == 0.0. Check if the approximated '\n",
      "/usr/lib/python3/dist-packages/scipy/optimize/_trustregion_constr/projections.py:181: UserWarning: Singular Jacobian matrix. Using SVD decomposition to perform the factorizations.\n",
      "  warn('Singular Jacobian matrix. Using SVD decomposition to ' +\n",
      "/usr/lib/python3/dist-packages/scipy/optimize/_hessian_update_strategy.py:182: UserWarning: delta_grad == 0.0. Check if the approximated function is linear. If the function is linear better results can be obtained by defining the Hessian as zero instead of using quasi-Newton approximations.\n",
      "  warn('delta_grad == 0.0. Check if the approximated '\n",
      "/usr/lib/python3/dist-packages/scipy/optimize/_trustregion_constr/projections.py:181: UserWarning: Singular Jacobian matrix. Using SVD decomposition to perform the factorizations.\n",
      "  warn('Singular Jacobian matrix. Using SVD decomposition to ' +\n",
      "/usr/lib/python3/dist-packages/scipy/optimize/_hessian_update_strategy.py:182: UserWarning: delta_grad == 0.0. Check if the approximated function is linear. If the function is linear better results can be obtained by defining the Hessian as zero instead of using quasi-Newton approximations.\n",
      "  warn('delta_grad == 0.0. Check if the approximated '\n",
      "/usr/lib/python3/dist-packages/scipy/optimize/_trustregion_constr/projections.py:181: UserWarning: Singular Jacobian matrix. Using SVD decomposition to perform the factorizations.\n",
      "  warn('Singular Jacobian matrix. Using SVD decomposition to ' +\n",
      "/usr/lib/python3/dist-packages/scipy/optimize/_hessian_update_strategy.py:182: UserWarning: delta_grad == 0.0. Check if the approximated function is linear. If the function is linear better results can be obtained by defining the Hessian as zero instead of using quasi-Newton approximations.\n",
      "  warn('delta_grad == 0.0. Check if the approximated '\n",
      "/usr/lib/python3/dist-packages/scipy/optimize/_trustregion_constr/projections.py:181: UserWarning: Singular Jacobian matrix. Using SVD decomposition to perform the factorizations.\n",
      "  warn('Singular Jacobian matrix. Using SVD decomposition to ' +\n",
      "/usr/lib/python3/dist-packages/scipy/optimize/_hessian_update_strategy.py:182: UserWarning: delta_grad == 0.0. Check if the approximated function is linear. If the function is linear better results can be obtained by defining the Hessian as zero instead of using quasi-Newton approximations.\n",
      "  warn('delta_grad == 0.0. Check if the approximated '\n",
      "/usr/lib/python3/dist-packages/scipy/optimize/_trustregion_constr/projections.py:181: UserWarning: Singular Jacobian matrix. Using SVD decomposition to perform the factorizations.\n",
      "  warn('Singular Jacobian matrix. Using SVD decomposition to ' +\n",
      "/usr/lib/python3/dist-packages/scipy/optimize/_hessian_update_strategy.py:182: UserWarning: delta_grad == 0.0. Check if the approximated function is linear. If the function is linear better results can be obtained by defining the Hessian as zero instead of using quasi-Newton approximations.\n",
      "  warn('delta_grad == 0.0. Check if the approximated '\n",
      "/usr/lib/python3/dist-packages/scipy/optimize/_trustregion_constr/projections.py:181: UserWarning: Singular Jacobian matrix. Using SVD decomposition to perform the factorizations.\n",
      "  warn('Singular Jacobian matrix. Using SVD decomposition to ' +\n",
      "/usr/lib/python3/dist-packages/scipy/optimize/_hessian_update_strategy.py:182: UserWarning: delta_grad == 0.0. Check if the approximated function is linear. If the function is linear better results can be obtained by defining the Hessian as zero instead of using quasi-Newton approximations.\n",
      "  warn('delta_grad == 0.0. Check if the approximated '\n",
      "/usr/lib/python3/dist-packages/scipy/optimize/_trustregion_constr/projections.py:181: UserWarning: Singular Jacobian matrix. Using SVD decomposition to perform the factorizations.\n",
      "  warn('Singular Jacobian matrix. Using SVD decomposition to ' +\n",
      "/usr/lib/python3/dist-packages/scipy/optimize/_hessian_update_strategy.py:182: UserWarning: delta_grad == 0.0. Check if the approximated function is linear. If the function is linear better results can be obtained by defining the Hessian as zero instead of using quasi-Newton approximations.\n",
      "  warn('delta_grad == 0.0. Check if the approximated '\n",
      "/usr/lib/python3/dist-packages/scipy/optimize/_trustregion_constr/projections.py:181: UserWarning: Singular Jacobian matrix. Using SVD decomposition to perform the factorizations.\n",
      "  warn('Singular Jacobian matrix. Using SVD decomposition to ' +\n",
      "/usr/lib/python3/dist-packages/scipy/optimize/_hessian_update_strategy.py:182: UserWarning: delta_grad == 0.0. Check if the approximated function is linear. If the function is linear better results can be obtained by defining the Hessian as zero instead of using quasi-Newton approximations.\n",
      "  warn('delta_grad == 0.0. Check if the approximated '\n",
      "/usr/lib/python3/dist-packages/scipy/optimize/_trustregion_constr/projections.py:181: UserWarning: Singular Jacobian matrix. Using SVD decomposition to perform the factorizations.\n",
      "  warn('Singular Jacobian matrix. Using SVD decomposition to ' +\n",
      "/usr/lib/python3/dist-packages/scipy/optimize/_hessian_update_strategy.py:182: UserWarning: delta_grad == 0.0. Check if the approximated function is linear. If the function is linear better results can be obtained by defining the Hessian as zero instead of using quasi-Newton approximations.\n",
      "  warn('delta_grad == 0.0. Check if the approximated '\n",
      "/usr/lib/python3/dist-packages/scipy/optimize/_trustregion_constr/projections.py:181: UserWarning: Singular Jacobian matrix. Using SVD decomposition to perform the factorizations.\n",
      "  warn('Singular Jacobian matrix. Using SVD decomposition to ' +\n",
      "/usr/lib/python3/dist-packages/scipy/optimize/_hessian_update_strategy.py:182: UserWarning: delta_grad == 0.0. Check if the approximated function is linear. If the function is linear better results can be obtained by defining the Hessian as zero instead of using quasi-Newton approximations.\n",
      "  warn('delta_grad == 0.0. Check if the approximated '\n",
      "/usr/lib/python3/dist-packages/scipy/optimize/_trustregion_constr/projections.py:181: UserWarning: Singular Jacobian matrix. Using SVD decomposition to perform the factorizations.\n",
      "  warn('Singular Jacobian matrix. Using SVD decomposition to ' +\n",
      "/usr/lib/python3/dist-packages/scipy/optimize/_hessian_update_strategy.py:182: UserWarning: delta_grad == 0.0. Check if the approximated function is linear. If the function is linear better results can be obtained by defining the Hessian as zero instead of using quasi-Newton approximations.\n",
      "  warn('delta_grad == 0.0. Check if the approximated '\n",
      "/usr/lib/python3/dist-packages/scipy/optimize/_trustregion_constr/projections.py:181: UserWarning: Singular Jacobian matrix. Using SVD decomposition to perform the factorizations.\n",
      "  warn('Singular Jacobian matrix. Using SVD decomposition to ' +\n",
      "/usr/lib/python3/dist-packages/scipy/optimize/_hessian_update_strategy.py:182: UserWarning: delta_grad == 0.0. Check if the approximated function is linear. If the function is linear better results can be obtained by defining the Hessian as zero instead of using quasi-Newton approximations.\n",
      "  warn('delta_grad == 0.0. Check if the approximated '\n",
      "/usr/lib/python3/dist-packages/scipy/optimize/_trustregion_constr/projections.py:181: UserWarning: Singular Jacobian matrix. Using SVD decomposition to perform the factorizations.\n",
      "  warn('Singular Jacobian matrix. Using SVD decomposition to ' +\n",
      "/usr/lib/python3/dist-packages/scipy/optimize/_hessian_update_strategy.py:182: UserWarning: delta_grad == 0.0. Check if the approximated function is linear. If the function is linear better results can be obtained by defining the Hessian as zero instead of using quasi-Newton approximations.\n",
      "  warn('delta_grad == 0.0. Check if the approximated '\n",
      "/usr/lib/python3/dist-packages/scipy/optimize/_trustregion_constr/projections.py:181: UserWarning: Singular Jacobian matrix. Using SVD decomposition to perform the factorizations.\n",
      "  warn('Singular Jacobian matrix. Using SVD decomposition to ' +\n",
      "/usr/lib/python3/dist-packages/scipy/optimize/_hessian_update_strategy.py:182: UserWarning: delta_grad == 0.0. Check if the approximated function is linear. If the function is linear better results can be obtained by defining the Hessian as zero instead of using quasi-Newton approximations.\n",
      "  warn('delta_grad == 0.0. Check if the approximated '\n",
      "/usr/lib/python3/dist-packages/scipy/optimize/_trustregion_constr/projections.py:181: UserWarning: Singular Jacobian matrix. Using SVD decomposition to perform the factorizations.\n",
      "  warn('Singular Jacobian matrix. Using SVD decomposition to ' +\n",
      "/usr/lib/python3/dist-packages/scipy/optimize/_hessian_update_strategy.py:182: UserWarning: delta_grad == 0.0. Check if the approximated function is linear. If the function is linear better results can be obtained by defining the Hessian as zero instead of using quasi-Newton approximations.\n",
      "  warn('delta_grad == 0.0. Check if the approximated '\n",
      "/usr/lib/python3/dist-packages/scipy/optimize/_trustregion_constr/projections.py:181: UserWarning: Singular Jacobian matrix. Using SVD decomposition to perform the factorizations.\n",
      "  warn('Singular Jacobian matrix. Using SVD decomposition to ' +\n",
      "/usr/lib/python3/dist-packages/scipy/optimize/_hessian_update_strategy.py:182: UserWarning: delta_grad == 0.0. Check if the approximated function is linear. If the function is linear better results can be obtained by defining the Hessian as zero instead of using quasi-Newton approximations.\n",
      "  warn('delta_grad == 0.0. Check if the approximated '\n",
      "/usr/lib/python3/dist-packages/scipy/optimize/_trustregion_constr/projections.py:181: UserWarning: Singular Jacobian matrix. Using SVD decomposition to perform the factorizations.\n",
      "  warn('Singular Jacobian matrix. Using SVD decomposition to ' +\n",
      "/usr/lib/python3/dist-packages/scipy/optimize/_hessian_update_strategy.py:182: UserWarning: delta_grad == 0.0. Check if the approximated function is linear. If the function is linear better results can be obtained by defining the Hessian as zero instead of using quasi-Newton approximations.\n",
      "  warn('delta_grad == 0.0. Check if the approximated '\n",
      "/usr/lib/python3/dist-packages/scipy/optimize/_trustregion_constr/projections.py:181: UserWarning: Singular Jacobian matrix. Using SVD decomposition to perform the factorizations.\n",
      "  warn('Singular Jacobian matrix. Using SVD decomposition to ' +\n",
      "/usr/lib/python3/dist-packages/scipy/optimize/_hessian_update_strategy.py:182: UserWarning: delta_grad == 0.0. Check if the approximated function is linear. If the function is linear better results can be obtained by defining the Hessian as zero instead of using quasi-Newton approximations.\n",
      "  warn('delta_grad == 0.0. Check if the approximated '\n",
      "/usr/lib/python3/dist-packages/scipy/optimize/_trustregion_constr/projections.py:181: UserWarning: Singular Jacobian matrix. Using SVD decomposition to perform the factorizations.\n",
      "  warn('Singular Jacobian matrix. Using SVD decomposition to ' +\n",
      "/usr/lib/python3/dist-packages/scipy/optimize/_hessian_update_strategy.py:182: UserWarning: delta_grad == 0.0. Check if the approximated function is linear. If the function is linear better results can be obtained by defining the Hessian as zero instead of using quasi-Newton approximations.\n",
      "  warn('delta_grad == 0.0. Check if the approximated '\n",
      "/usr/lib/python3/dist-packages/scipy/optimize/_trustregion_constr/projections.py:181: UserWarning: Singular Jacobian matrix. Using SVD decomposition to perform the factorizations.\n",
      "  warn('Singular Jacobian matrix. Using SVD decomposition to ' +\n",
      "/usr/lib/python3/dist-packages/scipy/optimize/_hessian_update_strategy.py:182: UserWarning: delta_grad == 0.0. Check if the approximated function is linear. If the function is linear better results can be obtained by defining the Hessian as zero instead of using quasi-Newton approximations.\n",
      "  warn('delta_grad == 0.0. Check if the approximated '\n",
      "/usr/lib/python3/dist-packages/scipy/optimize/_trustregion_constr/projections.py:181: UserWarning: Singular Jacobian matrix. Using SVD decomposition to perform the factorizations.\n",
      "  warn('Singular Jacobian matrix. Using SVD decomposition to ' +\n",
      "/usr/lib/python3/dist-packages/scipy/optimize/_hessian_update_strategy.py:182: UserWarning: delta_grad == 0.0. Check if the approximated function is linear. If the function is linear better results can be obtained by defining the Hessian as zero instead of using quasi-Newton approximations.\n",
      "  warn('delta_grad == 0.0. Check if the approximated '\n",
      "/usr/lib/python3/dist-packages/scipy/optimize/_trustregion_constr/projections.py:181: UserWarning: Singular Jacobian matrix. Using SVD decomposition to perform the factorizations.\n",
      "  warn('Singular Jacobian matrix. Using SVD decomposition to ' +\n",
      "/usr/lib/python3/dist-packages/scipy/optimize/_hessian_update_strategy.py:182: UserWarning: delta_grad == 0.0. Check if the approximated function is linear. If the function is linear better results can be obtained by defining the Hessian as zero instead of using quasi-Newton approximations.\n",
      "  warn('delta_grad == 0.0. Check if the approximated '\n",
      "/usr/lib/python3/dist-packages/scipy/optimize/_trustregion_constr/projections.py:181: UserWarning: Singular Jacobian matrix. Using SVD decomposition to perform the factorizations.\n",
      "  warn('Singular Jacobian matrix. Using SVD decomposition to ' +\n",
      "/usr/lib/python3/dist-packages/scipy/optimize/_hessian_update_strategy.py:182: UserWarning: delta_grad == 0.0. Check if the approximated function is linear. If the function is linear better results can be obtained by defining the Hessian as zero instead of using quasi-Newton approximations.\n",
      "  warn('delta_grad == 0.0. Check if the approximated '\n",
      "/usr/lib/python3/dist-packages/scipy/optimize/_trustregion_constr/projections.py:181: UserWarning: Singular Jacobian matrix. Using SVD decomposition to perform the factorizations.\n",
      "  warn('Singular Jacobian matrix. Using SVD decomposition to ' +\n",
      "/usr/lib/python3/dist-packages/scipy/optimize/_hessian_update_strategy.py:182: UserWarning: delta_grad == 0.0. Check if the approximated function is linear. If the function is linear better results can be obtained by defining the Hessian as zero instead of using quasi-Newton approximations.\n",
      "  warn('delta_grad == 0.0. Check if the approximated '\n",
      "/usr/lib/python3/dist-packages/scipy/optimize/_trustregion_constr/projections.py:181: UserWarning: Singular Jacobian matrix. Using SVD decomposition to perform the factorizations.\n",
      "  warn('Singular Jacobian matrix. Using SVD decomposition to ' +\n",
      "/usr/lib/python3/dist-packages/scipy/optimize/_hessian_update_strategy.py:182: UserWarning: delta_grad == 0.0. Check if the approximated function is linear. If the function is linear better results can be obtained by defining the Hessian as zero instead of using quasi-Newton approximations.\n",
      "  warn('delta_grad == 0.0. Check if the approximated '\n",
      "/usr/lib/python3/dist-packages/scipy/optimize/_trustregion_constr/projections.py:181: UserWarning: Singular Jacobian matrix. Using SVD decomposition to perform the factorizations.\n",
      "  warn('Singular Jacobian matrix. Using SVD decomposition to ' +\n",
      "/usr/lib/python3/dist-packages/scipy/optimize/_hessian_update_strategy.py:182: UserWarning: delta_grad == 0.0. Check if the approximated function is linear. If the function is linear better results can be obtained by defining the Hessian as zero instead of using quasi-Newton approximations.\n",
      "  warn('delta_grad == 0.0. Check if the approximated '\n",
      "/usr/lib/python3/dist-packages/scipy/optimize/_trustregion_constr/projections.py:181: UserWarning: Singular Jacobian matrix. Using SVD decomposition to perform the factorizations.\n",
      "  warn('Singular Jacobian matrix. Using SVD decomposition to ' +\n",
      "/usr/lib/python3/dist-packages/scipy/optimize/_hessian_update_strategy.py:182: UserWarning: delta_grad == 0.0. Check if the approximated function is linear. If the function is linear better results can be obtained by defining the Hessian as zero instead of using quasi-Newton approximations.\n",
      "  warn('delta_grad == 0.0. Check if the approximated '\n",
      "/usr/lib/python3/dist-packages/scipy/optimize/_trustregion_constr/projections.py:181: UserWarning: Singular Jacobian matrix. Using SVD decomposition to perform the factorizations.\n",
      "  warn('Singular Jacobian matrix. Using SVD decomposition to ' +\n",
      "/usr/lib/python3/dist-packages/scipy/optimize/_hessian_update_strategy.py:182: UserWarning: delta_grad == 0.0. Check if the approximated function is linear. If the function is linear better results can be obtained by defining the Hessian as zero instead of using quasi-Newton approximations.\n",
      "  warn('delta_grad == 0.0. Check if the approximated '\n",
      "/usr/lib/python3/dist-packages/scipy/optimize/_trustregion_constr/projections.py:181: UserWarning: Singular Jacobian matrix. Using SVD decomposition to perform the factorizations.\n",
      "  warn('Singular Jacobian matrix. Using SVD decomposition to ' +\n",
      "/usr/lib/python3/dist-packages/scipy/optimize/_hessian_update_strategy.py:182: UserWarning: delta_grad == 0.0. Check if the approximated function is linear. If the function is linear better results can be obtained by defining the Hessian as zero instead of using quasi-Newton approximations.\n",
      "  warn('delta_grad == 0.0. Check if the approximated '\n",
      "/usr/lib/python3/dist-packages/scipy/optimize/_trustregion_constr/projections.py:181: UserWarning: Singular Jacobian matrix. Using SVD decomposition to perform the factorizations.\n",
      "  warn('Singular Jacobian matrix. Using SVD decomposition to ' +\n",
      "/usr/lib/python3/dist-packages/scipy/optimize/_hessian_update_strategy.py:182: UserWarning: delta_grad == 0.0. Check if the approximated function is linear. If the function is linear better results can be obtained by defining the Hessian as zero instead of using quasi-Newton approximations.\n",
      "  warn('delta_grad == 0.0. Check if the approximated '\n",
      "/usr/lib/python3/dist-packages/scipy/optimize/_trustregion_constr/projections.py:181: UserWarning: Singular Jacobian matrix. Using SVD decomposition to perform the factorizations.\n",
      "  warn('Singular Jacobian matrix. Using SVD decomposition to ' +\n",
      "/usr/lib/python3/dist-packages/scipy/optimize/_hessian_update_strategy.py:182: UserWarning: delta_grad == 0.0. Check if the approximated function is linear. If the function is linear better results can be obtained by defining the Hessian as zero instead of using quasi-Newton approximations.\n",
      "  warn('delta_grad == 0.0. Check if the approximated '\n",
      "/usr/lib/python3/dist-packages/scipy/optimize/_trustregion_constr/projections.py:181: UserWarning: Singular Jacobian matrix. Using SVD decomposition to perform the factorizations.\n",
      "  warn('Singular Jacobian matrix. Using SVD decomposition to ' +\n",
      "/usr/lib/python3/dist-packages/scipy/optimize/_hessian_update_strategy.py:182: UserWarning: delta_grad == 0.0. Check if the approximated function is linear. If the function is linear better results can be obtained by defining the Hessian as zero instead of using quasi-Newton approximations.\n",
      "  warn('delta_grad == 0.0. Check if the approximated '\n",
      "/usr/lib/python3/dist-packages/scipy/optimize/_trustregion_constr/projections.py:181: UserWarning: Singular Jacobian matrix. Using SVD decomposition to perform the factorizations.\n",
      "  warn('Singular Jacobian matrix. Using SVD decomposition to ' +\n",
      "/usr/lib/python3/dist-packages/scipy/optimize/_hessian_update_strategy.py:182: UserWarning: delta_grad == 0.0. Check if the approximated function is linear. If the function is linear better results can be obtained by defining the Hessian as zero instead of using quasi-Newton approximations.\n",
      "  warn('delta_grad == 0.0. Check if the approximated '\n",
      "/usr/lib/python3/dist-packages/scipy/optimize/_trustregion_constr/projections.py:181: UserWarning: Singular Jacobian matrix. Using SVD decomposition to perform the factorizations.\n",
      "  warn('Singular Jacobian matrix. Using SVD decomposition to ' +\n",
      "/usr/lib/python3/dist-packages/scipy/optimize/_hessian_update_strategy.py:182: UserWarning: delta_grad == 0.0. Check if the approximated function is linear. If the function is linear better results can be obtained by defining the Hessian as zero instead of using quasi-Newton approximations.\n",
      "  warn('delta_grad == 0.0. Check if the approximated '\n",
      "/usr/lib/python3/dist-packages/scipy/optimize/_trustregion_constr/projections.py:181: UserWarning: Singular Jacobian matrix. Using SVD decomposition to perform the factorizations.\n",
      "  warn('Singular Jacobian matrix. Using SVD decomposition to ' +\n",
      "/usr/lib/python3/dist-packages/scipy/optimize/_hessian_update_strategy.py:182: UserWarning: delta_grad == 0.0. Check if the approximated function is linear. If the function is linear better results can be obtained by defining the Hessian as zero instead of using quasi-Newton approximations.\n",
      "  warn('delta_grad == 0.0. Check if the approximated '\n",
      "/usr/lib/python3/dist-packages/scipy/optimize/_trustregion_constr/projections.py:181: UserWarning: Singular Jacobian matrix. Using SVD decomposition to perform the factorizations.\n",
      "  warn('Singular Jacobian matrix. Using SVD decomposition to ' +\n",
      "/usr/lib/python3/dist-packages/scipy/optimize/_hessian_update_strategy.py:182: UserWarning: delta_grad == 0.0. Check if the approximated function is linear. If the function is linear better results can be obtained by defining the Hessian as zero instead of using quasi-Newton approximations.\n",
      "  warn('delta_grad == 0.0. Check if the approximated '\n",
      "/usr/lib/python3/dist-packages/scipy/optimize/_trustregion_constr/projections.py:181: UserWarning: Singular Jacobian matrix. Using SVD decomposition to perform the factorizations.\n",
      "  warn('Singular Jacobian matrix. Using SVD decomposition to ' +\n",
      "/usr/lib/python3/dist-packages/scipy/optimize/_hessian_update_strategy.py:182: UserWarning: delta_grad == 0.0. Check if the approximated function is linear. If the function is linear better results can be obtained by defining the Hessian as zero instead of using quasi-Newton approximations.\n",
      "  warn('delta_grad == 0.0. Check if the approximated '\n",
      "/usr/lib/python3/dist-packages/scipy/optimize/_trustregion_constr/projections.py:181: UserWarning: Singular Jacobian matrix. Using SVD decomposition to perform the factorizations.\n",
      "  warn('Singular Jacobian matrix. Using SVD decomposition to ' +\n",
      "/usr/lib/python3/dist-packages/scipy/optimize/_hessian_update_strategy.py:182: UserWarning: delta_grad == 0.0. Check if the approximated function is linear. If the function is linear better results can be obtained by defining the Hessian as zero instead of using quasi-Newton approximations.\n",
      "  warn('delta_grad == 0.0. Check if the approximated '\n",
      "/usr/lib/python3/dist-packages/scipy/optimize/_trustregion_constr/projections.py:181: UserWarning: Singular Jacobian matrix. Using SVD decomposition to perform the factorizations.\n",
      "  warn('Singular Jacobian matrix. Using SVD decomposition to ' +\n",
      "/usr/lib/python3/dist-packages/scipy/optimize/_hessian_update_strategy.py:182: UserWarning: delta_grad == 0.0. Check if the approximated function is linear. If the function is linear better results can be obtained by defining the Hessian as zero instead of using quasi-Newton approximations.\n",
      "  warn('delta_grad == 0.0. Check if the approximated '\n",
      "/usr/lib/python3/dist-packages/scipy/optimize/_trustregion_constr/projections.py:181: UserWarning: Singular Jacobian matrix. Using SVD decomposition to perform the factorizations.\n",
      "  warn('Singular Jacobian matrix. Using SVD decomposition to ' +\n",
      "/usr/lib/python3/dist-packages/scipy/optimize/_hessian_update_strategy.py:182: UserWarning: delta_grad == 0.0. Check if the approximated function is linear. If the function is linear better results can be obtained by defining the Hessian as zero instead of using quasi-Newton approximations.\n",
      "  warn('delta_grad == 0.0. Check if the approximated '\n",
      "/usr/lib/python3/dist-packages/scipy/optimize/_trustregion_constr/projections.py:181: UserWarning: Singular Jacobian matrix. Using SVD decomposition to perform the factorizations.\n",
      "  warn('Singular Jacobian matrix. Using SVD decomposition to ' +\n",
      "/usr/lib/python3/dist-packages/scipy/optimize/_hessian_update_strategy.py:182: UserWarning: delta_grad == 0.0. Check if the approximated function is linear. If the function is linear better results can be obtained by defining the Hessian as zero instead of using quasi-Newton approximations.\n",
      "  warn('delta_grad == 0.0. Check if the approximated '\n",
      "/usr/lib/python3/dist-packages/scipy/optimize/_trustregion_constr/projections.py:181: UserWarning: Singular Jacobian matrix. Using SVD decomposition to perform the factorizations.\n",
      "  warn('Singular Jacobian matrix. Using SVD decomposition to ' +\n",
      "/usr/lib/python3/dist-packages/scipy/optimize/_hessian_update_strategy.py:182: UserWarning: delta_grad == 0.0. Check if the approximated function is linear. If the function is linear better results can be obtained by defining the Hessian as zero instead of using quasi-Newton approximations.\n",
      "  warn('delta_grad == 0.0. Check if the approximated '\n"
     ]
    }
   ],
   "source": [
    " from numpy import linspace, vectorize, meshgrid\n",
    "import plotly.graph_objects as go\n",
    "from plotly.subplots import make_subplots\n",
    "\n",
    "c0 = linspace(0.001, 0.999, 10)\n",
    "va = linspace(0.001, 0.999, 10)\n",
    "C0, Va = meshgrid(c0, va)\n",
    "\n",
    "# Compute Z values using the fa function\n",
    "F = f2(c0=C0, c1 = 1-C0, Va=Va, Vb=1-Va)"
   ]
  },
  {
   "cell_type": "code",
   "execution_count": 7,
   "metadata": {},
   "outputs": [
    {
     "name": "stderr",
     "output_type": "stream",
     "text": [
      "/usr/lib/python3/dist-packages/scipy/optimize/_trustregion_constr/projections.py:181: UserWarning:\n",
      "\n",
      "Singular Jacobian matrix. Using SVD decomposition to perform the factorizations.\n",
      "\n",
      "/usr/lib/python3/dist-packages/scipy/optimize/_hessian_update_strategy.py:182: UserWarning:\n",
      "\n",
      "delta_grad == 0.0. Check if the approximated function is linear. If the function is linear better results can be obtained by defining the Hessian as zero instead of using quasi-Newton approximations.\n",
      "\n",
      "/usr/lib/python3/dist-packages/scipy/optimize/_trustregion_constr/projections.py:181: UserWarning:\n",
      "\n",
      "Singular Jacobian matrix. Using SVD decomposition to perform the factorizations.\n",
      "\n",
      "/usr/lib/python3/dist-packages/scipy/optimize/_hessian_update_strategy.py:182: UserWarning:\n",
      "\n",
      "delta_grad == 0.0. Check if the approximated function is linear. If the function is linear better results can be obtained by defining the Hessian as zero instead of using quasi-Newton approximations.\n",
      "\n",
      "/usr/lib/python3/dist-packages/scipy/optimize/_trustregion_constr/projections.py:181: UserWarning:\n",
      "\n",
      "Singular Jacobian matrix. Using SVD decomposition to perform the factorizations.\n",
      "\n",
      "/usr/lib/python3/dist-packages/scipy/optimize/_hessian_update_strategy.py:182: UserWarning:\n",
      "\n",
      "delta_grad == 0.0. Check if the approximated function is linear. If the function is linear better results can be obtained by defining the Hessian as zero instead of using quasi-Newton approximations.\n",
      "\n",
      "/usr/lib/python3/dist-packages/scipy/optimize/_trustregion_constr/projections.py:181: UserWarning:\n",
      "\n",
      "Singular Jacobian matrix. Using SVD decomposition to perform the factorizations.\n",
      "\n",
      "/usr/lib/python3/dist-packages/scipy/optimize/_hessian_update_strategy.py:182: UserWarning:\n",
      "\n",
      "delta_grad == 0.0. Check if the approximated function is linear. If the function is linear better results can be obtained by defining the Hessian as zero instead of using quasi-Newton approximations.\n",
      "\n",
      "/usr/lib/python3/dist-packages/scipy/optimize/_trustregion_constr/projections.py:181: UserWarning:\n",
      "\n",
      "Singular Jacobian matrix. Using SVD decomposition to perform the factorizations.\n",
      "\n",
      "/usr/lib/python3/dist-packages/scipy/optimize/_hessian_update_strategy.py:182: UserWarning:\n",
      "\n",
      "delta_grad == 0.0. Check if the approximated function is linear. If the function is linear better results can be obtained by defining the Hessian as zero instead of using quasi-Newton approximations.\n",
      "\n",
      "/usr/lib/python3/dist-packages/scipy/optimize/_trustregion_constr/projections.py:181: UserWarning:\n",
      "\n",
      "Singular Jacobian matrix. Using SVD decomposition to perform the factorizations.\n",
      "\n",
      "/usr/lib/python3/dist-packages/scipy/optimize/_hessian_update_strategy.py:182: UserWarning:\n",
      "\n",
      "delta_grad == 0.0. Check if the approximated function is linear. If the function is linear better results can be obtained by defining the Hessian as zero instead of using quasi-Newton approximations.\n",
      "\n",
      "/usr/lib/python3/dist-packages/scipy/optimize/_trustregion_constr/projections.py:181: UserWarning:\n",
      "\n",
      "Singular Jacobian matrix. Using SVD decomposition to perform the factorizations.\n",
      "\n",
      "/usr/lib/python3/dist-packages/scipy/optimize/_hessian_update_strategy.py:182: UserWarning:\n",
      "\n",
      "delta_grad == 0.0. Check if the approximated function is linear. If the function is linear better results can be obtained by defining the Hessian as zero instead of using quasi-Newton approximations.\n",
      "\n",
      "/usr/lib/python3/dist-packages/scipy/optimize/_trustregion_constr/projections.py:181: UserWarning:\n",
      "\n",
      "Singular Jacobian matrix. Using SVD decomposition to perform the factorizations.\n",
      "\n",
      "/usr/lib/python3/dist-packages/scipy/optimize/_hessian_update_strategy.py:182: UserWarning:\n",
      "\n",
      "delta_grad == 0.0. Check if the approximated function is linear. If the function is linear better results can be obtained by defining the Hessian as zero instead of using quasi-Newton approximations.\n",
      "\n",
      "/usr/lib/python3/dist-packages/scipy/optimize/_trustregion_constr/projections.py:181: UserWarning:\n",
      "\n",
      "Singular Jacobian matrix. Using SVD decomposition to perform the factorizations.\n",
      "\n",
      "/usr/lib/python3/dist-packages/scipy/optimize/_hessian_update_strategy.py:182: UserWarning:\n",
      "\n",
      "delta_grad == 0.0. Check if the approximated function is linear. If the function is linear better results can be obtained by defining the Hessian as zero instead of using quasi-Newton approximations.\n",
      "\n",
      "/usr/lib/python3/dist-packages/scipy/optimize/_trustregion_constr/projections.py:181: UserWarning:\n",
      "\n",
      "Singular Jacobian matrix. Using SVD decomposition to perform the factorizations.\n",
      "\n",
      "/usr/lib/python3/dist-packages/scipy/optimize/_hessian_update_strategy.py:182: UserWarning:\n",
      "\n",
      "delta_grad == 0.0. Check if the approximated function is linear. If the function is linear better results can be obtained by defining the Hessian as zero instead of using quasi-Newton approximations.\n",
      "\n",
      "/usr/lib/python3/dist-packages/scipy/optimize/_trustregion_constr/projections.py:181: UserWarning:\n",
      "\n",
      "Singular Jacobian matrix. Using SVD decomposition to perform the factorizations.\n",
      "\n",
      "/usr/lib/python3/dist-packages/scipy/optimize/_hessian_update_strategy.py:182: UserWarning:\n",
      "\n",
      "delta_grad == 0.0. Check if the approximated function is linear. If the function is linear better results can be obtained by defining the Hessian as zero instead of using quasi-Newton approximations.\n",
      "\n"
     ]
    },
    {
     "data": {
      "application/vnd.plotly.v1+json": {
       "config": {
        "plotlyServerURL": "https://plot.ly"
       },
       "data": [
        {
         "colorscale": [
          [
           0,
           "#440154"
          ],
          [
           0.1111111111111111,
           "#482878"
          ],
          [
           0.2222222222222222,
           "#3e4989"
          ],
          [
           0.3333333333333333,
           "#31688e"
          ],
          [
           0.4444444444444444,
           "#26828e"
          ],
          [
           0.5555555555555556,
           "#1f9e89"
          ],
          [
           0.6666666666666666,
           "#35b779"
          ],
          [
           0.7777777777777778,
           "#6ece58"
          ],
          [
           0.8888888888888888,
           "#b5de2b"
          ],
          [
           1,
           "#fde725"
          ]
         ],
         "scene": "scene",
         "type": "surface",
         "x": [
          [
           0.001,
           0.11188888888888888,
           0.22277777777777777,
           0.33366666666666667,
           0.44455555555555554,
           0.5554444444444444,
           0.6663333333333333,
           0.7772222222222221,
           0.8881111111111111,
           0.999
          ],
          [
           0.001,
           0.11188888888888888,
           0.22277777777777777,
           0.33366666666666667,
           0.44455555555555554,
           0.5554444444444444,
           0.6663333333333333,
           0.7772222222222221,
           0.8881111111111111,
           0.999
          ],
          [
           0.001,
           0.11188888888888888,
           0.22277777777777777,
           0.33366666666666667,
           0.44455555555555554,
           0.5554444444444444,
           0.6663333333333333,
           0.7772222222222221,
           0.8881111111111111,
           0.999
          ],
          [
           0.001,
           0.11188888888888888,
           0.22277777777777777,
           0.33366666666666667,
           0.44455555555555554,
           0.5554444444444444,
           0.6663333333333333,
           0.7772222222222221,
           0.8881111111111111,
           0.999
          ],
          [
           0.001,
           0.11188888888888888,
           0.22277777777777777,
           0.33366666666666667,
           0.44455555555555554,
           0.5554444444444444,
           0.6663333333333333,
           0.7772222222222221,
           0.8881111111111111,
           0.999
          ],
          [
           0.001,
           0.11188888888888888,
           0.22277777777777777,
           0.33366666666666667,
           0.44455555555555554,
           0.5554444444444444,
           0.6663333333333333,
           0.7772222222222221,
           0.8881111111111111,
           0.999
          ],
          [
           0.001,
           0.11188888888888888,
           0.22277777777777777,
           0.33366666666666667,
           0.44455555555555554,
           0.5554444444444444,
           0.6663333333333333,
           0.7772222222222221,
           0.8881111111111111,
           0.999
          ],
          [
           0.001,
           0.11188888888888888,
           0.22277777777777777,
           0.33366666666666667,
           0.44455555555555554,
           0.5554444444444444,
           0.6663333333333333,
           0.7772222222222221,
           0.8881111111111111,
           0.999
          ],
          [
           0.001,
           0.11188888888888888,
           0.22277777777777777,
           0.33366666666666667,
           0.44455555555555554,
           0.5554444444444444,
           0.6663333333333333,
           0.7772222222222221,
           0.8881111111111111,
           0.999
          ],
          [
           0.001,
           0.11188888888888888,
           0.22277777777777777,
           0.33366666666666667,
           0.44455555555555554,
           0.5554444444444444,
           0.6663333333333333,
           0.7772222222222221,
           0.8881111111111111,
           0.999
          ]
         ],
         "y": [
          [
           0.001,
           0.001,
           0.001,
           0.001,
           0.001,
           0.001,
           0.001,
           0.001,
           0.001,
           0.001
          ],
          [
           0.11188888888888888,
           0.11188888888888888,
           0.11188888888888888,
           0.11188888888888888,
           0.11188888888888888,
           0.11188888888888888,
           0.11188888888888888,
           0.11188888888888888,
           0.11188888888888888,
           0.11188888888888888
          ],
          [
           0.22277777777777777,
           0.22277777777777777,
           0.22277777777777777,
           0.22277777777777777,
           0.22277777777777777,
           0.22277777777777777,
           0.22277777777777777,
           0.22277777777777777,
           0.22277777777777777,
           0.22277777777777777
          ],
          [
           0.33366666666666667,
           0.33366666666666667,
           0.33366666666666667,
           0.33366666666666667,
           0.33366666666666667,
           0.33366666666666667,
           0.33366666666666667,
           0.33366666666666667,
           0.33366666666666667,
           0.33366666666666667
          ],
          [
           0.44455555555555554,
           0.44455555555555554,
           0.44455555555555554,
           0.44455555555555554,
           0.44455555555555554,
           0.44455555555555554,
           0.44455555555555554,
           0.44455555555555554,
           0.44455555555555554,
           0.44455555555555554
          ],
          [
           0.5554444444444444,
           0.5554444444444444,
           0.5554444444444444,
           0.5554444444444444,
           0.5554444444444444,
           0.5554444444444444,
           0.5554444444444444,
           0.5554444444444444,
           0.5554444444444444,
           0.5554444444444444
          ],
          [
           0.6663333333333333,
           0.6663333333333333,
           0.6663333333333333,
           0.6663333333333333,
           0.6663333333333333,
           0.6663333333333333,
           0.6663333333333333,
           0.6663333333333333,
           0.6663333333333333,
           0.6663333333333333
          ],
          [
           0.7772222222222221,
           0.7772222222222221,
           0.7772222222222221,
           0.7772222222222221,
           0.7772222222222221,
           0.7772222222222221,
           0.7772222222222221,
           0.7772222222222221,
           0.7772222222222221,
           0.7772222222222221
          ],
          [
           0.8881111111111111,
           0.8881111111111111,
           0.8881111111111111,
           0.8881111111111111,
           0.8881111111111111,
           0.8881111111111111,
           0.8881111111111111,
           0.8881111111111111,
           0.8881111111111111,
           0.8881111111111111
          ],
          [
           0.999,
           0.999,
           0.999,
           0.999,
           0.999,
           0.999,
           0.999,
           0.999,
           0.999,
           0.999
          ]
         ],
         "z": [
          [
           1.9819247195855985,
           0.9032911174447313,
           0.23197615693980123,
           -0.2553562186365671,
           -0.602577010282868,
           -0.8243547844865639,
           -0.9206895415899694,
           -0.8769126954262552,
           -0.6491531341228762,
           -0.01274194090719842
          ],
          [
           1.7576522102093344,
           0.8765044275671752,
           0.22648907733088797,
           -0.25948252019362217,
           -0.605634194051683,
           -0.8186839223602026,
           -0.8935087030973348,
           -0.8105167758483607,
           -0.5182915722466179,
           0.20520795864172672
          ],
          [
           1.5351807691745967,
           0.6753325968010808,
           0.09325835945361483,
           -0.3402278939797425,
           -0.6306332886277498,
           -0.7947862828752549,
           -0.8231927472159746,
           -0.7001169160642777,
           -0.3616732563781679,
           0.4262919168085408
          ],
          [
           1.31309080334319,
           0.4546034090215333,
           -0.07498548423478046,
           -0.43611058478352166,
           -0.6649058337009198,
           -0.7616816301939352,
           -0.7354610224914325,
           -0.5579503374710131,
           -0.17942277388218014,
           0.6477574803897881
          ],
          [
           1.0911820565274728,
           0.23376377999405495,
           -0.24007883405220476,
           -0.5395937888703367,
           -0.7002137776994063,
           -0.7267465016920303,
           -0.6363695853633521,
           -0.4042318282997099,
           0.0207140516855355,
           0.8694042823237771
          ],
          [
           0.869404282323777,
           0.02071405168553564,
           -0.40423182829971,
           -0.6363695853633519,
           -0.7267465016920305,
           -0.700213777699406,
           -0.5395937888703366,
           -0.24007883405220437,
           0.23376377999405454,
           1.0911820565274726
          ],
          [
           0.6477574803897882,
           -0.17942277388218003,
           -0.5579503374710129,
           -0.7354610224914324,
           -0.7616816301939358,
           -0.6649058337009203,
           -0.43611058478352105,
           -0.07498548423478064,
           0.45460340902153257,
           1.3130908033431903
          ],
          [
           0.42629191680854067,
           -0.3616732563781676,
           -0.7001169160642773,
           -0.8231927472159748,
           -0.7947862828752555,
           -0.6306332886277499,
           -0.3402278939797419,
           0.09325835945361372,
           0.6753325968010805,
           1.535180769174597
          ],
          [
           0.20520795864172683,
           -0.5182915722466178,
           -0.8105167758483609,
           -0.8935087030973348,
           -0.8186839223602025,
           -0.6056341940516838,
           -0.2594825201936214,
           0.22648907733088727,
           0.8765044275671757,
           1.7576522102093346
          ],
          [
           -0.012741940907199007,
           -0.6491531341228762,
           -0.8769126954262553,
           -0.9206895415899692,
           -0.8243547844865639,
           -0.602577010282868,
           -0.255356218636567,
           0.23197615693980103,
           0.9032911174447313,
           1.9819247195855982
          ]
         ]
        },
        {
         "mode": "lines",
         "name": "fa",
         "type": "scatter",
         "x": [
          0.001,
          0.11188888888888888,
          0.22277777777777777,
          0.33366666666666667,
          0.44455555555555554,
          0.5554444444444444,
          0.6663333333333333,
          0.7772222222222221,
          0.8881111111111111,
          0.999
         ],
         "xaxis": "x",
         "y": [
          -0.017722275700929276,
          -0.6503055906877542,
          -0.8773713323801695,
          -0.9208359643473534,
          -0.8243702314001591,
          -0.6025924536223817,
          -0.25550263101402026,
          0.2315175565087192,
          0.9021388537566901,
          1.9782777242990708
         ],
         "yaxis": "y"
        },
        {
         "mode": "lines",
         "name": "fb",
         "type": "scatter",
         "x": [
          0.001,
          0.11188888888888888,
          0.22277777777777777,
          0.33366666666666667,
          0.44455555555555554,
          0.5554444444444444,
          0.6663333333333333,
          0.7772222222222221,
          0.8881111111111111,
          0.999
         ],
         "xaxis": "x",
         "y": [
          1.9782777242990708,
          0.9021388537566902,
          0.23151755650871964,
          -0.25550263101402026,
          -0.6025924536223815,
          -0.8243702314001589,
          -0.9208359643473534,
          -0.8773713323801696,
          -0.6503055906877543,
          -0.017722275700929286
         ],
         "yaxis": "y"
        },
        {
         "mode": "lines",
         "name": "fb",
         "type": "scatter",
         "x": [
          0.001,
          0.11188888888888888,
          0.22277777777777777,
          0.33366666666666667,
          0.44455555555555554,
          0.5554444444444444,
          0.6663333333333333,
          0.7772222222222221,
          0.8881111111111111,
          0.999
         ],
         "xaxis": "x",
         "y": [
          -0.017722355984848257,
          -0.650305615467936,
          -0.8773713409246123,
          -0.9208359679626301,
          -0.8243702376414729,
          -0.6025924656523414,
          -0.2555026450253192,
          0.23151752785762447,
          0.9021387964140523,
          1.9782776187265219
         ],
         "yaxis": "y"
        }
       ],
       "layout": {
        "scene": {
         "domain": {
          "x": [
           0,
           0.45
          ],
          "y": [
           0,
           1
          ]
         },
         "xaxis": {
          "title": {
           "text": "c0"
          }
         },
         "yaxis": {
          "title": {
           "text": "Va"
          }
         },
         "zaxis": {
          "title": {
           "text": "f"
          }
         }
        },
        "template": {
         "data": {
          "bar": [
           {
            "error_x": {
             "color": "#2a3f5f"
            },
            "error_y": {
             "color": "#2a3f5f"
            },
            "marker": {
             "line": {
              "color": "#E5ECF6",
              "width": 0.5
             },
             "pattern": {
              "fillmode": "overlay",
              "size": 10,
              "solidity": 0.2
             }
            },
            "type": "bar"
           }
          ],
          "barpolar": [
           {
            "marker": {
             "line": {
              "color": "#E5ECF6",
              "width": 0.5
             },
             "pattern": {
              "fillmode": "overlay",
              "size": 10,
              "solidity": 0.2
             }
            },
            "type": "barpolar"
           }
          ],
          "carpet": [
           {
            "aaxis": {
             "endlinecolor": "#2a3f5f",
             "gridcolor": "white",
             "linecolor": "white",
             "minorgridcolor": "white",
             "startlinecolor": "#2a3f5f"
            },
            "baxis": {
             "endlinecolor": "#2a3f5f",
             "gridcolor": "white",
             "linecolor": "white",
             "minorgridcolor": "white",
             "startlinecolor": "#2a3f5f"
            },
            "type": "carpet"
           }
          ],
          "choropleth": [
           {
            "colorbar": {
             "outlinewidth": 0,
             "ticks": ""
            },
            "type": "choropleth"
           }
          ],
          "contour": [
           {
            "colorbar": {
             "outlinewidth": 0,
             "ticks": ""
            },
            "colorscale": [
             [
              0,
              "#0d0887"
             ],
             [
              0.1111111111111111,
              "#46039f"
             ],
             [
              0.2222222222222222,
              "#7201a8"
             ],
             [
              0.3333333333333333,
              "#9c179e"
             ],
             [
              0.4444444444444444,
              "#bd3786"
             ],
             [
              0.5555555555555556,
              "#d8576b"
             ],
             [
              0.6666666666666666,
              "#ed7953"
             ],
             [
              0.7777777777777778,
              "#fb9f3a"
             ],
             [
              0.8888888888888888,
              "#fdca26"
             ],
             [
              1,
              "#f0f921"
             ]
            ],
            "type": "contour"
           }
          ],
          "contourcarpet": [
           {
            "colorbar": {
             "outlinewidth": 0,
             "ticks": ""
            },
            "type": "contourcarpet"
           }
          ],
          "heatmap": [
           {
            "colorbar": {
             "outlinewidth": 0,
             "ticks": ""
            },
            "colorscale": [
             [
              0,
              "#0d0887"
             ],
             [
              0.1111111111111111,
              "#46039f"
             ],
             [
              0.2222222222222222,
              "#7201a8"
             ],
             [
              0.3333333333333333,
              "#9c179e"
             ],
             [
              0.4444444444444444,
              "#bd3786"
             ],
             [
              0.5555555555555556,
              "#d8576b"
             ],
             [
              0.6666666666666666,
              "#ed7953"
             ],
             [
              0.7777777777777778,
              "#fb9f3a"
             ],
             [
              0.8888888888888888,
              "#fdca26"
             ],
             [
              1,
              "#f0f921"
             ]
            ],
            "type": "heatmap"
           }
          ],
          "heatmapgl": [
           {
            "colorbar": {
             "outlinewidth": 0,
             "ticks": ""
            },
            "colorscale": [
             [
              0,
              "#0d0887"
             ],
             [
              0.1111111111111111,
              "#46039f"
             ],
             [
              0.2222222222222222,
              "#7201a8"
             ],
             [
              0.3333333333333333,
              "#9c179e"
             ],
             [
              0.4444444444444444,
              "#bd3786"
             ],
             [
              0.5555555555555556,
              "#d8576b"
             ],
             [
              0.6666666666666666,
              "#ed7953"
             ],
             [
              0.7777777777777778,
              "#fb9f3a"
             ],
             [
              0.8888888888888888,
              "#fdca26"
             ],
             [
              1,
              "#f0f921"
             ]
            ],
            "type": "heatmapgl"
           }
          ],
          "histogram": [
           {
            "marker": {
             "pattern": {
              "fillmode": "overlay",
              "size": 10,
              "solidity": 0.2
             }
            },
            "type": "histogram"
           }
          ],
          "histogram2d": [
           {
            "colorbar": {
             "outlinewidth": 0,
             "ticks": ""
            },
            "colorscale": [
             [
              0,
              "#0d0887"
             ],
             [
              0.1111111111111111,
              "#46039f"
             ],
             [
              0.2222222222222222,
              "#7201a8"
             ],
             [
              0.3333333333333333,
              "#9c179e"
             ],
             [
              0.4444444444444444,
              "#bd3786"
             ],
             [
              0.5555555555555556,
              "#d8576b"
             ],
             [
              0.6666666666666666,
              "#ed7953"
             ],
             [
              0.7777777777777778,
              "#fb9f3a"
             ],
             [
              0.8888888888888888,
              "#fdca26"
             ],
             [
              1,
              "#f0f921"
             ]
            ],
            "type": "histogram2d"
           }
          ],
          "histogram2dcontour": [
           {
            "colorbar": {
             "outlinewidth": 0,
             "ticks": ""
            },
            "colorscale": [
             [
              0,
              "#0d0887"
             ],
             [
              0.1111111111111111,
              "#46039f"
             ],
             [
              0.2222222222222222,
              "#7201a8"
             ],
             [
              0.3333333333333333,
              "#9c179e"
             ],
             [
              0.4444444444444444,
              "#bd3786"
             ],
             [
              0.5555555555555556,
              "#d8576b"
             ],
             [
              0.6666666666666666,
              "#ed7953"
             ],
             [
              0.7777777777777778,
              "#fb9f3a"
             ],
             [
              0.8888888888888888,
              "#fdca26"
             ],
             [
              1,
              "#f0f921"
             ]
            ],
            "type": "histogram2dcontour"
           }
          ],
          "mesh3d": [
           {
            "colorbar": {
             "outlinewidth": 0,
             "ticks": ""
            },
            "type": "mesh3d"
           }
          ],
          "parcoords": [
           {
            "line": {
             "colorbar": {
              "outlinewidth": 0,
              "ticks": ""
             }
            },
            "type": "parcoords"
           }
          ],
          "pie": [
           {
            "automargin": true,
            "type": "pie"
           }
          ],
          "scatter": [
           {
            "fillpattern": {
             "fillmode": "overlay",
             "size": 10,
             "solidity": 0.2
            },
            "type": "scatter"
           }
          ],
          "scatter3d": [
           {
            "line": {
             "colorbar": {
              "outlinewidth": 0,
              "ticks": ""
             }
            },
            "marker": {
             "colorbar": {
              "outlinewidth": 0,
              "ticks": ""
             }
            },
            "type": "scatter3d"
           }
          ],
          "scattercarpet": [
           {
            "marker": {
             "colorbar": {
              "outlinewidth": 0,
              "ticks": ""
             }
            },
            "type": "scattercarpet"
           }
          ],
          "scattergeo": [
           {
            "marker": {
             "colorbar": {
              "outlinewidth": 0,
              "ticks": ""
             }
            },
            "type": "scattergeo"
           }
          ],
          "scattergl": [
           {
            "marker": {
             "colorbar": {
              "outlinewidth": 0,
              "ticks": ""
             }
            },
            "type": "scattergl"
           }
          ],
          "scattermapbox": [
           {
            "marker": {
             "colorbar": {
              "outlinewidth": 0,
              "ticks": ""
             }
            },
            "type": "scattermapbox"
           }
          ],
          "scatterpolar": [
           {
            "marker": {
             "colorbar": {
              "outlinewidth": 0,
              "ticks": ""
             }
            },
            "type": "scatterpolar"
           }
          ],
          "scatterpolargl": [
           {
            "marker": {
             "colorbar": {
              "outlinewidth": 0,
              "ticks": ""
             }
            },
            "type": "scatterpolargl"
           }
          ],
          "scatterternary": [
           {
            "marker": {
             "colorbar": {
              "outlinewidth": 0,
              "ticks": ""
             }
            },
            "type": "scatterternary"
           }
          ],
          "surface": [
           {
            "colorbar": {
             "outlinewidth": 0,
             "ticks": ""
            },
            "colorscale": [
             [
              0,
              "#0d0887"
             ],
             [
              0.1111111111111111,
              "#46039f"
             ],
             [
              0.2222222222222222,
              "#7201a8"
             ],
             [
              0.3333333333333333,
              "#9c179e"
             ],
             [
              0.4444444444444444,
              "#bd3786"
             ],
             [
              0.5555555555555556,
              "#d8576b"
             ],
             [
              0.6666666666666666,
              "#ed7953"
             ],
             [
              0.7777777777777778,
              "#fb9f3a"
             ],
             [
              0.8888888888888888,
              "#fdca26"
             ],
             [
              1,
              "#f0f921"
             ]
            ],
            "type": "surface"
           }
          ],
          "table": [
           {
            "cells": {
             "fill": {
              "color": "#EBF0F8"
             },
             "line": {
              "color": "white"
             }
            },
            "header": {
             "fill": {
              "color": "#C8D4E3"
             },
             "line": {
              "color": "white"
             }
            },
            "type": "table"
           }
          ]
         },
         "layout": {
          "annotationdefaults": {
           "arrowcolor": "#2a3f5f",
           "arrowhead": 0,
           "arrowwidth": 1
          },
          "autotypenumbers": "strict",
          "coloraxis": {
           "colorbar": {
            "outlinewidth": 0,
            "ticks": ""
           }
          },
          "colorscale": {
           "diverging": [
            [
             0,
             "#8e0152"
            ],
            [
             0.1,
             "#c51b7d"
            ],
            [
             0.2,
             "#de77ae"
            ],
            [
             0.3,
             "#f1b6da"
            ],
            [
             0.4,
             "#fde0ef"
            ],
            [
             0.5,
             "#f7f7f7"
            ],
            [
             0.6,
             "#e6f5d0"
            ],
            [
             0.7,
             "#b8e186"
            ],
            [
             0.8,
             "#7fbc41"
            ],
            [
             0.9,
             "#4d9221"
            ],
            [
             1,
             "#276419"
            ]
           ],
           "sequential": [
            [
             0,
             "#0d0887"
            ],
            [
             0.1111111111111111,
             "#46039f"
            ],
            [
             0.2222222222222222,
             "#7201a8"
            ],
            [
             0.3333333333333333,
             "#9c179e"
            ],
            [
             0.4444444444444444,
             "#bd3786"
            ],
            [
             0.5555555555555556,
             "#d8576b"
            ],
            [
             0.6666666666666666,
             "#ed7953"
            ],
            [
             0.7777777777777778,
             "#fb9f3a"
            ],
            [
             0.8888888888888888,
             "#fdca26"
            ],
            [
             1,
             "#f0f921"
            ]
           ],
           "sequentialminus": [
            [
             0,
             "#0d0887"
            ],
            [
             0.1111111111111111,
             "#46039f"
            ],
            [
             0.2222222222222222,
             "#7201a8"
            ],
            [
             0.3333333333333333,
             "#9c179e"
            ],
            [
             0.4444444444444444,
             "#bd3786"
            ],
            [
             0.5555555555555556,
             "#d8576b"
            ],
            [
             0.6666666666666666,
             "#ed7953"
            ],
            [
             0.7777777777777778,
             "#fb9f3a"
            ],
            [
             0.8888888888888888,
             "#fdca26"
            ],
            [
             1,
             "#f0f921"
            ]
           ]
          },
          "colorway": [
           "#636efa",
           "#EF553B",
           "#00cc96",
           "#ab63fa",
           "#FFA15A",
           "#19d3f3",
           "#FF6692",
           "#B6E880",
           "#FF97FF",
           "#FECB52"
          ],
          "font": {
           "color": "#2a3f5f"
          },
          "geo": {
           "bgcolor": "white",
           "lakecolor": "white",
           "landcolor": "#E5ECF6",
           "showlakes": true,
           "showland": true,
           "subunitcolor": "white"
          },
          "hoverlabel": {
           "align": "left"
          },
          "hovermode": "closest",
          "mapbox": {
           "style": "light"
          },
          "paper_bgcolor": "white",
          "plot_bgcolor": "#E5ECF6",
          "polar": {
           "angularaxis": {
            "gridcolor": "white",
            "linecolor": "white",
            "ticks": ""
           },
           "bgcolor": "#E5ECF6",
           "radialaxis": {
            "gridcolor": "white",
            "linecolor": "white",
            "ticks": ""
           }
          },
          "scene": {
           "xaxis": {
            "backgroundcolor": "#E5ECF6",
            "gridcolor": "white",
            "gridwidth": 2,
            "linecolor": "white",
            "showbackground": true,
            "ticks": "",
            "zerolinecolor": "white"
           },
           "yaxis": {
            "backgroundcolor": "#E5ECF6",
            "gridcolor": "white",
            "gridwidth": 2,
            "linecolor": "white",
            "showbackground": true,
            "ticks": "",
            "zerolinecolor": "white"
           },
           "zaxis": {
            "backgroundcolor": "#E5ECF6",
            "gridcolor": "white",
            "gridwidth": 2,
            "linecolor": "white",
            "showbackground": true,
            "ticks": "",
            "zerolinecolor": "white"
           }
          },
          "shapedefaults": {
           "line": {
            "color": "#2a3f5f"
           }
          },
          "ternary": {
           "aaxis": {
            "gridcolor": "white",
            "linecolor": "white",
            "ticks": ""
           },
           "baxis": {
            "gridcolor": "white",
            "linecolor": "white",
            "ticks": ""
           },
           "bgcolor": "#E5ECF6",
           "caxis": {
            "gridcolor": "white",
            "linecolor": "white",
            "ticks": ""
           }
          },
          "title": {
           "x": 0.05
          },
          "xaxis": {
           "automargin": true,
           "gridcolor": "white",
           "linecolor": "white",
           "ticks": "",
           "title": {
            "standoff": 15
           },
           "zerolinecolor": "white",
           "zerolinewidth": 2
          },
          "yaxis": {
           "automargin": true,
           "gridcolor": "white",
           "linecolor": "white",
           "ticks": "",
           "title": {
            "standoff": 15
           },
           "zerolinecolor": "white",
           "zerolinewidth": 2
          }
         }
        },
        "title": {
         "text": "3D Surface Plot of f and 2D Plot of f_reduced"
        },
        "xaxis": {
         "anchor": "y",
         "domain": [
          0.55,
          1
         ]
        },
        "yaxis": {
         "anchor": "x",
         "domain": [
          0,
          1
         ]
        }
       }
      }
     },
     "metadata": {},
     "output_type": "display_data"
    }
   ],
   "source": [
    "fig = make_subplots(rows=1, cols=2, specs=[[{'type': 'surface'}, {'type': 'xy'}]])\n",
    "\n",
    "# Add the 3D surface plot for f\n",
    "fig.add_trace(go.Surface(z=F, x=C0, y=Va, colorscale='Viridis'), row=1, col=1)\n",
    "\n",
    "# Add the 2D plot for f_reduced\n",
    "fig.add_trace(go.Scatter(x=c0, y=fa(c0a=c0,c1a=1-c0,Va=1), mode='lines', name='fa'), row=1, col=2)\n",
    "fig.add_trace(go.Scatter(x=c0, y=fb(c0b=c0,c1b=1-c0,Vb=1), mode='lines', name='fb'), row=1, col=2)\n",
    "fig.add_trace(go.Scatter(x=c0, y=f2(c0=c0,c1=1-c0,Va=1, Vb=0), mode='lines', name='fb'), row=1, col=2)\n",
    "\n",
    "# Update layout for the entire figure\n",
    "fig.update_layout(\n",
    "    title='3D Surface Plot of f and 2D Plot of f_reduced',\n",
    "    scene=dict(\n",
    "        xaxis_title='c0',\n",
    "        yaxis_title='Va',\n",
    "        zaxis_title='f',\n",
    "        #xaxis2_title='c0',\n",
    "        #yaxis2_title='f_reduced'\n",
    "    ),\n",
    "\n",
    ")"
   ]
  },
  {
   "cell_type": "code",
   "execution_count": null,
   "metadata": {},
   "outputs": [],
   "source": []
  }
 ],
 "metadata": {
  "kernelspec": {
   "display_name": "Python 3",
   "language": "python",
   "name": "python3"
  },
  "language_info": {
   "codemirror_mode": {
    "name": "ipython",
    "version": 3
   },
   "file_extension": ".py",
   "mimetype": "text/x-python",
   "name": "python",
   "nbconvert_exporter": "python",
   "pygments_lexer": "ipython3",
   "version": "3.12.3"
  }
 },
 "nbformat": 4,
 "nbformat_minor": 2
}
