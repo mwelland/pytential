{
 "cells": [
  {
   "cell_type": "code",
   "execution_count": 1,
   "metadata": {},
   "outputs": [],
   "source": [
    "from pytential.sympy_pytential import sympy_pytential\n",
    "from pytential.reduce import min_pytential, pyt_minimizer"
   ]
  },
  {
   "cell_type": "code",
   "execution_count": 2,
   "metadata": {},
   "outputs": [
    {
     "name": "stdout",
     "output_type": "stream",
     "text": [
      "Density, rho, not found. Assuming rho = 1\n",
      "Specific volumes, vi, not found. Assuming vi = 1/rho\n",
      "Density, rho, not found. Assuming rho = 1\n",
      "Specific volumes, vi, not found. Assuming vi = 1/rho\n"
     ]
    }
   ],
   "source": [
    "fa = sympy_pytential.from_properties({'mu0':[2,0]}, {'T':.300}, suffix='a')\n",
    "fb = sympy_pytential.from_properties({'mu0':[0,2]}, {'T':.300}, suffix='b')"
   ]
  },
  {
   "cell_type": "markdown",
   "metadata": {},
   "source": [
    "Make a collected function fa+fb with all the variables, and add constraints that the concentrations must sum to ca and cb"
   ]
  },
  {
   "cell_type": "code",
   "execution_count": 3,
   "metadata": {},
   "outputs": [
    {
     "name": "stdout",
     "output_type": "stream",
     "text": [
      "vars ['Va', 'c1a', 'Vb', 'c0a', 'c0b', 'c1b']\n",
      "prefix ['c0', 'c1']\n",
      "\n",
      "Variables\n",
      "['Va', 'c1a', 'Vb', 'c0a', 'c0b', 'c1b', 'c0', 'c1']\n",
      "\n",
      "Potential\n",
      "    ⎛          ⎛   c0a   ⎞    ⎞                 ⎛   c0b   ⎞                 ⎛  ↪\n",
      "c0a⋅⎜2.4942⋅log⎜─────────⎟ + 2⎟ + 2.4942⋅c0b⋅log⎜─────────⎟ + 2.4942⋅c1a⋅log⎜─ ↪\n",
      "    ⎝          ⎝c0a + c1a⎠    ⎠                 ⎝c0b + c1b⎠                 ⎝c ↪\n",
      "\n",
      "↪   c1a   ⎞       ⎛          ⎛   c1b   ⎞    ⎞\n",
      "↪ ────────⎟ + c1b⋅⎜2.4942⋅log⎜─────────⎟ + 2⎟\n",
      "↪ 0a + c1a⎠       ⎝          ⎝c0b + c1b⎠    ⎠\n",
      "\n",
      "Gradient\n",
      "⎡             ⎛   c1a   ⎞               ⎛   c0a   ⎞                ⎛   c0b   ⎞ ↪\n",
      "⎢0, 2.4942⋅log⎜─────────⎟, 0, 2.4942⋅log⎜─────────⎟ + 2, 2.4942⋅log⎜─────────⎟ ↪\n",
      "⎣             ⎝c0a + c1a⎠               ⎝c0a + c1a⎠                ⎝c0b + c1b⎠ ↪\n",
      "\n",
      "↪             ⎛   c1b   ⎞          ⎤\n",
      "↪ , 2.4942⋅log⎜─────────⎟ + 2, 0, 0⎥\n",
      "↪             ⎝c0b + c1b⎠          ⎦\n",
      "\n",
      "Hessian\n",
      "⎡0         0         0         0                0                0         0  0⎤\n",
      "⎢                                                                              ⎥\n",
      "⎢     2.4942⋅c0a           -2.4942                                             ⎥\n",
      "⎢0  ───────────────  0     ─────────            0                0         0  0⎥\n",
      "⎢   c1a⋅(c0a + c1a)        c0a + c1a                                           ⎥\n",
      "⎢                                                                              ⎥\n",
      "⎢0         0         0         0                0                0         0  0⎥\n",
      "⎢                                                                              ⎥\n",
      "⎢      -2.4942            2.4942⋅c1a                                           ⎥\n",
      "⎢0     ─────────     0  ───────────────         0                0         0  0⎥\n",
      "⎢      c0a + c1a        c0a⋅(c0a + c1a)                                        ⎥\n",
      "⎢                                                                              ⎥\n",
      "⎢                                          2.4942⋅c1b        -2.4942           ⎥\n",
      "⎢0         0         0         0         ───────────────     ─────────     0  0⎥\n",
      "⎢                                        c0b⋅(c0b + c1b)     c0b + c1b         ⎥\n",
      "⎢                                                                              ⎥\n",
      "⎢                                           -2.4942         2.4942⋅c0b         ⎥\n",
      "⎢0         0         0         0            ─────────     ───────────────  0  0⎥\n",
      "⎢                                           c0b + c1b     c1b⋅(c0b + c1b)      ⎥\n",
      "⎢                                                                              ⎥\n",
      "⎢0         0         0         0                0                0         0  0⎥\n",
      "⎢                                                                              ⎥\n",
      "⎣0         0         0         0                0                0         0  0⎦\n",
      "\n",
      "Constraints\n",
      "-Va + 1.0⋅c0a + 1.0⋅c1a\n",
      "-Vb + 1.0⋅c0b + 1.0⋅c1b\n",
      "-c₀ + c0a + c0b\n",
      "-c₁ + c1a + c1b\n",
      "\n"
     ]
    }
   ],
   "source": [
    "f = fa+fb\n",
    "f = sympy_pytential.sum_extensive_variables(f, ['c0', 'c1'])\n",
    "print(f)"
   ]
  },
  {
   "cell_type": "code",
   "execution_count": 4,
   "metadata": {},
   "outputs": [],
   "source": [
    "f2 = min_pytential(f, vars_out=['c0', 'c1', 'Va', 'Vb'])"
   ]
  },
  {
   "cell_type": "markdown",
   "metadata": {},
   "source": [
    "Visualization"
   ]
  },
  {
   "cell_type": "code",
   "execution_count": 5,
   "metadata": {},
   "outputs": [
    {
     "ename": "ValueError",
     "evalue": "All arguments must be in vars_out",
     "output_type": "error",
     "traceback": [
      "\u001b[1;31m---------------------------------------------------------------------------\u001b[0m",
      "\u001b[1;31mValueError\u001b[0m                                Traceback (most recent call last)",
      "Cell \u001b[1;32mIn[5], line 10\u001b[0m\n\u001b[0;32m      7\u001b[0m C0, Va \u001b[38;5;241m=\u001b[39m meshgrid(c0, va)\n\u001b[0;32m      9\u001b[0m \u001b[38;5;66;03m# Compute Z values using the fa function\u001b[39;00m\n\u001b[1;32m---> 10\u001b[0m F \u001b[38;5;241m=\u001b[39m \u001b[43mf2\u001b[49m\u001b[43m(\u001b[49m\u001b[43mc0\u001b[49m\u001b[38;5;241;43m=\u001b[39;49m\u001b[43mC0\u001b[49m\u001b[43m,\u001b[49m\u001b[43m \u001b[49m\u001b[43mc1\u001b[49m\u001b[43m \u001b[49m\u001b[38;5;241;43m=\u001b[39;49m\u001b[43m \u001b[49m\u001b[38;5;241;43m1\u001b[39;49m\u001b[38;5;241;43m-\u001b[39;49m\u001b[43mC0\u001b[49m\u001b[43m,\u001b[49m\u001b[43m \u001b[49m\u001b[43mVa\u001b[49m\u001b[38;5;241;43m=\u001b[39;49m\u001b[43mVa\u001b[49m\u001b[43m,\u001b[49m\u001b[43m \u001b[49m\u001b[43mVb\u001b[49m\u001b[38;5;241;43m=\u001b[39;49m\u001b[38;5;241;43m1\u001b[39;49m\u001b[38;5;241;43m-\u001b[39;49m\u001b[43mVa\u001b[49m\u001b[43m)\u001b[49m\n",
      "File \u001b[1;32m~\\Code\\pytential\\pytential\\pytential.py:61\u001b[0m, in \u001b[0;36mpytential.__call__\u001b[1;34m(self, *args, **kwargs)\u001b[0m\n\u001b[0;32m     59\u001b[0m \u001b[38;5;28;01mdef\u001b[39;00m \u001b[38;5;21m__call__\u001b[39m(\u001b[38;5;28mself\u001b[39m, \u001b[38;5;241m*\u001b[39margs, \u001b[38;5;241m*\u001b[39m\u001b[38;5;241m*\u001b[39mkwargs):\n\u001b[0;32m     60\u001b[0m     \u001b[38;5;66;03m# Shorthand to field call\u001b[39;00m\n\u001b[1;32m---> 61\u001b[0m     \u001b[38;5;28;01mreturn\u001b[39;00m \u001b[38;5;28;43mself\u001b[39;49m\u001b[38;5;241;43m.\u001b[39;49m\u001b[43mfcn\u001b[49m\u001b[43m(\u001b[49m\u001b[38;5;241;43m*\u001b[39;49m\u001b[43margs\u001b[49m\u001b[43m,\u001b[49m\u001b[43m \u001b[49m\u001b[38;5;241;43m*\u001b[39;49m\u001b[38;5;241;43m*\u001b[39;49m\u001b[43mkwargs\u001b[49m\u001b[43m)\u001b[49m\n",
      "File \u001b[1;32m~\\AppData\\Local\\Packages\\PythonSoftwareFoundation.Python.3.11_qbz5n2kfra8p0\\LocalCache\\local-packages\\Python311\\site-packages\\numpy\\lib\\_function_base_impl.py:2397\u001b[0m, in \u001b[0;36mvectorize.__call__\u001b[1;34m(self, *args, **kwargs)\u001b[0m\n\u001b[0;32m   2394\u001b[0m     \u001b[38;5;28mself\u001b[39m\u001b[38;5;241m.\u001b[39m_init_stage_2(\u001b[38;5;241m*\u001b[39margs, \u001b[38;5;241m*\u001b[39m\u001b[38;5;241m*\u001b[39mkwargs)\n\u001b[0;32m   2395\u001b[0m     \u001b[38;5;28;01mreturn\u001b[39;00m \u001b[38;5;28mself\u001b[39m\n\u001b[1;32m-> 2397\u001b[0m \u001b[38;5;28;01mreturn\u001b[39;00m \u001b[38;5;28;43mself\u001b[39;49m\u001b[38;5;241;43m.\u001b[39;49m\u001b[43m_call_as_normal\u001b[49m\u001b[43m(\u001b[49m\u001b[38;5;241;43m*\u001b[39;49m\u001b[43margs\u001b[49m\u001b[43m,\u001b[49m\u001b[43m \u001b[49m\u001b[38;5;241;43m*\u001b[39;49m\u001b[38;5;241;43m*\u001b[39;49m\u001b[43mkwargs\u001b[49m\u001b[43m)\u001b[49m\n",
      "File \u001b[1;32m~\\AppData\\Local\\Packages\\PythonSoftwareFoundation.Python.3.11_qbz5n2kfra8p0\\LocalCache\\local-packages\\Python311\\site-packages\\numpy\\lib\\_function_base_impl.py:2390\u001b[0m, in \u001b[0;36mvectorize._call_as_normal\u001b[1;34m(self, *args, **kwargs)\u001b[0m\n\u001b[0;32m   2387\u001b[0m     vargs \u001b[38;5;241m=\u001b[39m [args[_i] \u001b[38;5;28;01mfor\u001b[39;00m _i \u001b[38;5;129;01min\u001b[39;00m inds]\n\u001b[0;32m   2388\u001b[0m     vargs\u001b[38;5;241m.\u001b[39mextend([kwargs[_n] \u001b[38;5;28;01mfor\u001b[39;00m _n \u001b[38;5;129;01min\u001b[39;00m names])\n\u001b[1;32m-> 2390\u001b[0m \u001b[38;5;28;01mreturn\u001b[39;00m \u001b[38;5;28;43mself\u001b[39;49m\u001b[38;5;241;43m.\u001b[39;49m\u001b[43m_vectorize_call\u001b[49m\u001b[43m(\u001b[49m\u001b[43mfunc\u001b[49m\u001b[38;5;241;43m=\u001b[39;49m\u001b[43mfunc\u001b[49m\u001b[43m,\u001b[49m\u001b[43m \u001b[49m\u001b[43margs\u001b[49m\u001b[38;5;241;43m=\u001b[39;49m\u001b[43mvargs\u001b[49m\u001b[43m)\u001b[49m\n",
      "File \u001b[1;32m~\\AppData\\Local\\Packages\\PythonSoftwareFoundation.Python.3.11_qbz5n2kfra8p0\\LocalCache\\local-packages\\Python311\\site-packages\\numpy\\lib\\_function_base_impl.py:2475\u001b[0m, in \u001b[0;36mvectorize._vectorize_call\u001b[1;34m(self, func, args)\u001b[0m\n\u001b[0;32m   2473\u001b[0m     res \u001b[38;5;241m=\u001b[39m func()\n\u001b[0;32m   2474\u001b[0m \u001b[38;5;28;01melse\u001b[39;00m:\n\u001b[1;32m-> 2475\u001b[0m     ufunc, otypes \u001b[38;5;241m=\u001b[39m \u001b[38;5;28;43mself\u001b[39;49m\u001b[38;5;241;43m.\u001b[39;49m\u001b[43m_get_ufunc_and_otypes\u001b[49m\u001b[43m(\u001b[49m\u001b[43mfunc\u001b[49m\u001b[38;5;241;43m=\u001b[39;49m\u001b[43mfunc\u001b[49m\u001b[43m,\u001b[49m\u001b[43m \u001b[49m\u001b[43margs\u001b[49m\u001b[38;5;241;43m=\u001b[39;49m\u001b[43margs\u001b[49m\u001b[43m)\u001b[49m\n\u001b[0;32m   2477\u001b[0m     \u001b[38;5;66;03m# Convert args to object arrays first\u001b[39;00m\n\u001b[0;32m   2478\u001b[0m     inputs \u001b[38;5;241m=\u001b[39m [asanyarray(a, dtype\u001b[38;5;241m=\u001b[39m\u001b[38;5;28mobject\u001b[39m) \u001b[38;5;28;01mfor\u001b[39;00m a \u001b[38;5;129;01min\u001b[39;00m args]\n",
      "File \u001b[1;32m~\\AppData\\Local\\Packages\\PythonSoftwareFoundation.Python.3.11_qbz5n2kfra8p0\\LocalCache\\local-packages\\Python311\\site-packages\\numpy\\lib\\_function_base_impl.py:2435\u001b[0m, in \u001b[0;36mvectorize._get_ufunc_and_otypes\u001b[1;34m(self, func, args)\u001b[0m\n\u001b[0;32m   2431\u001b[0m     \u001b[38;5;28;01mraise\u001b[39;00m \u001b[38;5;167;01mValueError\u001b[39;00m(\u001b[38;5;124m'\u001b[39m\u001b[38;5;124mcannot call `vectorize` on size 0 inputs \u001b[39m\u001b[38;5;124m'\u001b[39m\n\u001b[0;32m   2432\u001b[0m                      \u001b[38;5;124m'\u001b[39m\u001b[38;5;124munless `otypes` is set\u001b[39m\u001b[38;5;124m'\u001b[39m)\n\u001b[0;32m   2434\u001b[0m inputs \u001b[38;5;241m=\u001b[39m [arg\u001b[38;5;241m.\u001b[39mflat[\u001b[38;5;241m0\u001b[39m] \u001b[38;5;28;01mfor\u001b[39;00m arg \u001b[38;5;129;01min\u001b[39;00m args]\n\u001b[1;32m-> 2435\u001b[0m outputs \u001b[38;5;241m=\u001b[39m \u001b[43mfunc\u001b[49m\u001b[43m(\u001b[49m\u001b[38;5;241;43m*\u001b[39;49m\u001b[43minputs\u001b[49m\u001b[43m)\u001b[49m\n\u001b[0;32m   2437\u001b[0m \u001b[38;5;66;03m# Performance note: profiling indicates that -- for simple\u001b[39;00m\n\u001b[0;32m   2438\u001b[0m \u001b[38;5;66;03m# functions at least -- this wrapping can almost double the\u001b[39;00m\n\u001b[0;32m   2439\u001b[0m \u001b[38;5;66;03m# execution time.\u001b[39;00m\n\u001b[0;32m   2440\u001b[0m \u001b[38;5;66;03m# Hence we make it optional.\u001b[39;00m\n\u001b[0;32m   2441\u001b[0m \u001b[38;5;28;01mif\u001b[39;00m \u001b[38;5;28mself\u001b[39m\u001b[38;5;241m.\u001b[39mcache:\n",
      "File \u001b[1;32m~\\AppData\\Local\\Packages\\PythonSoftwareFoundation.Python.3.11_qbz5n2kfra8p0\\LocalCache\\local-packages\\Python311\\site-packages\\numpy\\lib\\_function_base_impl.py:2385\u001b[0m, in \u001b[0;36mvectorize._call_as_normal.<locals>.func\u001b[1;34m(*vargs)\u001b[0m\n\u001b[0;32m   2383\u001b[0m     the_args[_i] \u001b[38;5;241m=\u001b[39m vargs[_n]\n\u001b[0;32m   2384\u001b[0m kwargs\u001b[38;5;241m.\u001b[39mupdate(\u001b[38;5;28mzip\u001b[39m(names, vargs[\u001b[38;5;28mlen\u001b[39m(inds):]))\n\u001b[1;32m-> 2385\u001b[0m \u001b[38;5;28;01mreturn\u001b[39;00m \u001b[38;5;28;43mself\u001b[39;49m\u001b[38;5;241;43m.\u001b[39;49m\u001b[43mpyfunc\u001b[49m\u001b[43m(\u001b[49m\u001b[38;5;241;43m*\u001b[39;49m\u001b[43mthe_args\u001b[49m\u001b[43m,\u001b[49m\u001b[43m \u001b[49m\u001b[38;5;241;43m*\u001b[39;49m\u001b[38;5;241;43m*\u001b[39;49m\u001b[43mkwargs\u001b[49m\u001b[43m)\u001b[49m\n",
      "File \u001b[1;32m<string>:1\u001b[0m, in \u001b[0;36m<lambda>\u001b[1;34m(c0, c1, Va, Vb)\u001b[0m\n",
      "File \u001b[1;32m~\\Code\\pytential\\pytential\\reduce\\min_pytential.py:63\u001b[0m, in \u001b[0;36mpyt_minimizer.find_min\u001b[1;34m(self, y, x0)\u001b[0m\n\u001b[0;32m     61\u001b[0m \u001b[38;5;28;01mdef\u001b[39;00m \u001b[38;5;21mfind_min\u001b[39m(\u001b[38;5;28mself\u001b[39m, y, x0\u001b[38;5;241m=\u001b[39m\u001b[38;5;28;01mNone\u001b[39;00m):\n\u001b[1;32m---> 63\u001b[0m     \u001b[38;5;28mprint\u001b[39m(\u001b[38;5;28;43mself\u001b[39;49m\u001b[38;5;241;43m.\u001b[39;49m\u001b[43mtest1\u001b[49m\u001b[43m(\u001b[49m\u001b[43mVa\u001b[49m\u001b[38;5;241;43m=\u001b[39;49m\u001b[38;5;241;43m.6\u001b[39;49m\u001b[43m,\u001b[49m\u001b[43mVb\u001b[49m\u001b[38;5;241;43m=\u001b[39;49m\u001b[38;5;241;43m.2\u001b[39;49m\u001b[43m)\u001b[49m)\n\u001b[0;32m     65\u001b[0m     \u001b[38;5;66;03m#TODO: #10 Insert a way to propogate the minimizer to the next run through interpolation\u001b[39;00m\n\u001b[0;32m     66\u001b[0m     \u001b[38;5;28;01mif\u001b[39;00m x0 \u001b[38;5;129;01mis\u001b[39;00m \u001b[38;5;28;01mNone\u001b[39;00m: \n",
      "File \u001b[1;32m~\\Code\\pytential\\pytential\\reduce\\min_pytential.py:56\u001b[0m, in \u001b[0;36mpyt_minimizer.test1\u001b[1;34m(self, x0, **kwargs)\u001b[0m\n\u001b[0;32m     54\u001b[0m \u001b[38;5;28;01mdef\u001b[39;00m \u001b[38;5;21mtest1\u001b[39m(\u001b[38;5;28mself\u001b[39m, x0\u001b[38;5;241m=\u001b[39m\u001b[38;5;28;01mNone\u001b[39;00m, \u001b[38;5;241m*\u001b[39m\u001b[38;5;241m*\u001b[39mkwargs):\n\u001b[0;32m     55\u001b[0m     \u001b[38;5;28;01mif\u001b[39;00m \u001b[38;5;28mset\u001b[39m(kwargs\u001b[38;5;241m.\u001b[39mkeys()) \u001b[38;5;241m!=\u001b[39m \u001b[38;5;28mset\u001b[39m(\u001b[38;5;28mself\u001b[39m\u001b[38;5;241m.\u001b[39mvars_out):\n\u001b[1;32m---> 56\u001b[0m         \u001b[38;5;28;01mraise\u001b[39;00m \u001b[38;5;167;01mValueError\u001b[39;00m(\u001b[38;5;124m\"\u001b[39m\u001b[38;5;124mAll arguments must be in vars_out\u001b[39m\u001b[38;5;124m\"\u001b[39m)\n\u001b[0;32m     58\u001b[0m     \u001b[38;5;28;01mreturn\u001b[39;00m np\u001b[38;5;241m.\u001b[39marray([kwargs[key] \u001b[38;5;28;01mfor\u001b[39;00m key \u001b[38;5;129;01min\u001b[39;00m \u001b[38;5;28mself\u001b[39m\u001b[38;5;241m.\u001b[39mvars_out])\n",
      "\u001b[1;31mValueError\u001b[0m: All arguments must be in vars_out"
     ]
    }
   ],
   "source": [
    "from numpy import linspace, vectorize, meshgrid\n",
    "import plotly.graph_objects as go\n",
    "from plotly.subplots import make_subplots\n",
    "\n",
    "c0 = linspace(0.001, 0.999, 10)\n",
    "va = linspace(0.001, 0.999, 10)\n",
    "C0, Va = meshgrid(c0, va)\n",
    "\n",
    "# Compute Z values using the fa function\n",
    "F = f2(c0=C0, c1 = 1-C0, Va=Va, Vb=1-Va)"
   ]
  },
  {
   "cell_type": "code",
   "execution_count": null,
   "metadata": {},
   "outputs": [],
   "source": [
    "#fig = make_subplots(rows=1, cols=2, specs=[[{'type': 'surface'}, {'type': 'xy'}]])\n",
    "fig = go.Figure()\n",
    "\n",
    "# Add the 3D surface plot for f\n",
    "fig.add_trace(go.Surface(\n",
    "    z=F, \n",
    "    x=C0, \n",
    "    y=Va, \n",
    "    colorscale='Viridis',\n",
    "    contours={\n",
    "        \"x\": {\"show\": True, \"color\": \"white\"},\n",
    "        \"y\": {\"show\": True, \"color\": \"white\"},\n",
    "        \"z\": {\"show\": False, \"color\": \"white\"}\n",
    "    }\n",
    "))\n",
    "\n",
    "fig.add_trace(go.Scatter3d(x=c0, y=[1]*len(c0), z=fa(c0a=c0,c1a=1-c0,Va=1), mode='lines', name='fa', line=dict(color='red', width=4)))\n",
    "fig.add_trace(go.Scatter3d(x=c0, y=[0]*len(c0), z=fb(c0b=c0,c1b=1-c0,Vb=1), mode='lines', name='fb', line=dict(color='blue', width = 4)))\n",
    "\n",
    "# # Add the 2D plot for f_reduced\n",
    "# fig.add_trace(go.Scatter(x=c0, y=fa(c0a=c0,c1a=1-c0,Va=1), mode='lines', name='fa'), row=1, col=2)\n",
    "# fig.add_trace(go.Scatter(x=c0, y=fb(c0b=c0,c1b=1-c0,Vb=1), mode='lines', name='fb'), row=1, col=2)\n",
    "# fig.add_trace(go.Scatter(x=c0, y=f2(c0=c0,c1=1-c0,Va=1, Vb=0), mode='lines', name='fb'), row=1, col=2)\n",
    "\n",
    "# Update layout for the entire figure\n",
    "fig.update_layout(\n",
    "    title='3D Surface Plot of f and 2D Plot of f_reduced',\n",
    "    scene=dict(\n",
    "        xaxis_title='c0',\n",
    "        yaxis_title='Va',\n",
    "        zaxis_title='f',\n",
    "        aspectratio = dict(x=2, y=2, z=1),\n",
    "        camera=dict(projection=dict(type=\"orthographic\"))\n",
    "    ),\n",
    "    \n",
    "\n",
    "\n",
    ")"
   ]
  },
  {
   "cell_type": "code",
   "execution_count": null,
   "metadata": {},
   "outputs": [],
   "source": [
    "f3 = min_pytential(f, vars_out=['Va', 'Vb'])"
   ]
  },
  {
   "cell_type": "code",
   "execution_count": null,
   "metadata": {},
   "outputs": [],
   "source": [
    "\n",
    "f3(Va=.5,Vb=.5)"
   ]
  },
  {
   "cell_type": "code",
   "execution_count": null,
   "metadata": {},
   "outputs": [],
   "source": []
  }
 ],
 "metadata": {
  "kernelspec": {
   "display_name": "Python 3",
   "language": "python",
   "name": "python3"
  },
  "language_info": {
   "codemirror_mode": {
    "name": "ipython",
    "version": 3
   },
   "file_extension": ".py",
   "mimetype": "text/x-python",
   "name": "python",
   "nbconvert_exporter": "python",
   "pygments_lexer": "ipython3",
   "version": "3.11.9"
  }
 },
 "nbformat": 4,
 "nbformat_minor": 2
}
