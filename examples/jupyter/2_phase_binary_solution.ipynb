{
 "cells": [
  {
   "cell_type": "code",
   "execution_count": 1,
   "metadata": {},
   "outputs": [],
   "source": [
    "from pytential.sympy_pytential import sympy_pytential\n",
    "from pytential.reduce import min_pytential, pyt_minimizer"
   ]
  },
  {
   "cell_type": "code",
   "execution_count": 2,
   "metadata": {},
   "outputs": [
    {
     "name": "stdout",
     "output_type": "stream",
     "text": [
      "Density, rho, not found. Assuming rho = 1\n",
      "Specific volumes, vi, not found. Assuming vi = 1/rho\n",
      "Density, rho, not found. Assuming rho = 1\n",
      "Specific volumes, vi, not found. Assuming vi = 1/rho\n"
     ]
    }
   ],
   "source": [
    "fa = sympy_pytential.from_properties({'mu0':[2,0]}, {'T':.300}, suffix='a')\n",
    "fb = sympy_pytential.from_properties({'mu0':[0,2]}, {'T':.300}, suffix='b')"
   ]
  },
  {
   "cell_type": "markdown",
   "metadata": {},
   "source": [
    "Make a collected function fa+fb with all the variables, and add constraints that the concentrations must sum to ca and cb"
   ]
  },
  {
   "cell_type": "code",
   "execution_count": 3,
   "metadata": {},
   "outputs": [
    {
     "name": "stdout",
     "output_type": "stream",
     "text": [
      "vars ['Va', 'Vb', 'c0a', 'c0b', 'c1a', 'c1b']\n",
      "prefix ['c0', 'c1']\n",
      "\n",
      "Variables\n",
      "['Va', 'Vb', 'c0', 'c0a', 'c0b', 'c1', 'c1a', 'c1b']\n",
      "\n",
      "Potential\n",
      "    ⎛          ⎛   c0a   ⎞    ⎞                 ⎛   c0b   ⎞                 ⎛ \n",
      "c0a⋅⎜2.4942⋅log⎜─────────⎟ + 2⎟ + 2.4942⋅c0b⋅log⎜─────────⎟ + 2.4942⋅c1a⋅log⎜─\n",
      "    ⎝          ⎝c0a + c1a⎠    ⎠                 ⎝c0b + c1b⎠                 ⎝c\n",
      "\n",
      "  c1a   ⎞       ⎛          ⎛   c1b   ⎞    ⎞\n",
      "────────⎟ + c1b⋅⎜2.4942⋅log⎜─────────⎟ + 2⎟\n",
      "0a + c1a⎠       ⎝          ⎝c0b + c1b⎠    ⎠\n",
      "\n",
      "Gradient\n",
      "⎡                   ⎛   c0a   ⎞                ⎛   c0b   ⎞               ⎛   c\n",
      "⎢0, 0, 0, 2.4942⋅log⎜─────────⎟ + 2, 2.4942⋅log⎜─────────⎟, 0, 2.4942⋅log⎜────\n",
      "⎣                   ⎝c0a + c1a⎠                ⎝c0b + c1b⎠               ⎝c0a \n",
      "\n",
      "1a   ⎞            ⎛   c1b   ⎞    ⎤\n",
      "─────⎟, 2.4942⋅log⎜─────────⎟ + 2⎥\n",
      "+ c1a⎠            ⎝c0b + c1b⎠    ⎦\n",
      "\n",
      "Hessian\n",
      "⎡0  0  0         0                0         0         0                0      \n",
      "⎢                                                                             \n",
      "⎢0  0  0         0                0         0         0                0      \n",
      "⎢                                                                             \n",
      "⎢0  0  0         0                0         0         0                0      \n",
      "⎢                                                                             \n",
      "⎢            2.4942⋅c1a                            -2.4942                    \n",
      "⎢0  0  0  ───────────────         0         0     ─────────            0      \n",
      "⎢         c0a⋅(c0a + c1a)                         c0a + c1a                   \n",
      "⎢                                                                             \n",
      "⎢                             2.4942⋅c1b                            -2.4942   \n",
      "⎢0  0  0         0         ───────────────  0         0            ─────────  \n",
      "⎢                          c0b⋅(c0b + c1b)                         c0b + c1b  \n",
      "⎢                                                                             \n",
      "⎢0  0  0         0                0         0         0                0      \n",
      "⎢                                                                             \n",
      "⎢             -2.4942                             2.4942⋅c0a                  \n",
      "⎢0  0  0     ─────────            0         0  ───────────────         0      \n",
      "⎢            c0a + c1a                         c1a⋅(c0a + c1a)                \n",
      "⎢                                                                             \n",
      "⎢                              -2.4942                             2.4942⋅c0b \n",
      "⎢0  0  0         0            ─────────     0         0         ──────────────\n",
      "⎣                             c0b + c1b                         c1b⋅(c0b + c1b\n",
      "\n",
      " ⎤\n",
      " ⎥\n",
      " ⎥\n",
      " ⎥\n",
      " ⎥\n",
      " ⎥\n",
      " ⎥\n",
      " ⎥\n",
      " ⎥\n",
      " ⎥\n",
      " ⎥\n",
      " ⎥\n",
      " ⎥\n",
      " ⎥\n",
      " ⎥\n",
      " ⎥\n",
      " ⎥\n",
      " ⎥\n",
      " ⎥\n",
      " ⎥\n",
      " ⎥\n",
      "─⎥\n",
      ")⎦\n",
      "\n",
      "Constraints\n",
      "-Va + 1.0⋅c0a + 1.0⋅c1a\n",
      "-Vb + 1.0⋅c0b + 1.0⋅c1b\n",
      "-c₀ + c0a + c0b\n",
      "-c₁ + c1a + c1b\n",
      "\n"
     ]
    }
   ],
   "source": [
    "f = fa+fb\n",
    "f = sympy_pytential.sum_extensive_variables(f, ['c0', 'c1'])\n",
    "print(f)"
   ]
  },
  {
   "cell_type": "code",
   "execution_count": 4,
   "metadata": {},
   "outputs": [
    {
     "data": {
      "text/plain": [
       "array([-0.7288477, -0.7288477, -0.7288477, -0.7288477])"
      ]
     },
     "execution_count": 4,
     "metadata": {},
     "output_type": "execute_result"
    }
   ],
   "source": [
    "f2 = min_pytential(f, vars_out=['c0', 'c1', 'Va', 'Vb'])\n",
    "f2([.5,.5,.5,.5])"
   ]
  },
  {
   "cell_type": "markdown",
   "metadata": {},
   "source": [
    "Visualization"
   ]
  },
  {
   "cell_type": "code",
   "execution_count": 8,
   "metadata": {},
   "outputs": [
    {
     "name": "stdout",
     "output_type": "stream",
     "text": [
      "[[0.001 0.5   0.999]\n",
      " [0.001 0.5   0.999]\n",
      " [0.001 0.5   0.999]]\n",
      "[[0.001 0.5   0.999 0.001 0.5   0.999 0.001 0.5   0.999]\n",
      " [0.999 0.5   0.001 0.999 0.5   0.001 0.999 0.5   0.001]\n",
      " [0.001 0.001 0.001 0.5   0.5   0.5   0.999 0.999 0.999]\n",
      " [0.999 0.999 0.999 0.5   0.5   0.5   0.001 0.001 0.001]]\n",
      "[[-0.0014577 -0.7288477 -1.4562377 -0.0014577 -0.7288477 -1.4562377\n",
      "  -0.0014577 -0.7288477 -1.4562377]\n",
      " [-1.4562377 -0.7288477 -0.0014577 -1.4562377 -0.7288477 -0.0014577\n",
      "  -1.4562377 -0.7288477 -0.0014577]\n",
      " [-0.0014577 -0.0014577 -0.0014577 -0.7288477 -0.7288477 -0.7288477\n",
      "  -1.4562377 -1.4562377 -1.4562377]\n",
      " [-1.4562377 -1.4562377 -1.4562377 -0.7288477 -0.7288477 -0.7288477\n",
      "  -0.0014577 -0.0014577 -0.0014577]]\n"
     ]
    },
    {
     "ename": "ValueError",
     "evalue": "cannot reshape array of size 36 into shape (3,3)",
     "output_type": "error",
     "traceback": [
      "\u001b[0;31m---------------------------------------------------------------------------\u001b[0m",
      "\u001b[0;31mValueError\u001b[0m                                Traceback (most recent call last)",
      "Cell \u001b[0;32mIn[8], line 16\u001b[0m\n\u001b[1;32m     14\u001b[0m F_flat \u001b[38;5;241m=\u001b[39m f2(args_matrix)\n\u001b[1;32m     15\u001b[0m \u001b[38;5;28mprint\u001b[39m(F_flat)\n\u001b[0;32m---> 16\u001b[0m F \u001b[38;5;241m=\u001b[39m \u001b[43mF_flat\u001b[49m\u001b[38;5;241;43m.\u001b[39;49m\u001b[43mreshape\u001b[49m\u001b[43m(\u001b[49m\u001b[43mC0\u001b[49m\u001b[38;5;241;43m.\u001b[39;49m\u001b[43mshape\u001b[49m\u001b[43m)\u001b[49m\n",
      "\u001b[0;31mValueError\u001b[0m: cannot reshape array of size 36 into shape (3,3)"
     ]
    }
   ],
   "source": [
    "from numpy import linspace, vectorize, meshgrid\n",
    "import numpy as np\n",
    "import plotly.graph_objects as go\n",
    "from plotly.subplots import make_subplots\n",
    "\n",
    "c0 = linspace(0.001, 0.999, 3)\n",
    "va = linspace(0.001, 0.999, 3)\n",
    "C0, Va = meshgrid(c0, va)\n",
    "print(C0)\n",
    "\n",
    "args_matrix = np.array([C0.flatten(), (1 - C0).flatten(), Va.flatten(), (1 - Va).flatten()])\n",
    "print(args_matrix)\n",
    "# Compute Z values using the fa function\n",
    "F_flat = f2(args_matrix)\n",
    "print(F_flat)\n",
    "F = F_flat.reshape(C0.shape)"
   ]
  },
  {
   "cell_type": "code",
   "execution_count": null,
   "metadata": {},
   "outputs": [],
   "source": [
    "#fig = make_subplots(rows=1, cols=2, specs=[[{'type': 'surface'}, {'type': 'xy'}]])\n",
    "fig = go.Figure()\n",
    "\n",
    "# Add the 3D surface plot for f\n",
    "fig.add_trace(go.Surface(\n",
    "    z=F, \n",
    "    x=c0, \n",
    "    y=va, \n",
    "    colorscale='Viridis',\n",
    "    contours={\n",
    "        \"x\": {\"show\": True, \"color\": \"white\"},\n",
    "        \"y\": {\"show\": True, \"color\": \"white\"},\n",
    "        \"z\": {\"show\": False, \"color\": \"white\"}\n",
    "    }\n",
    "))\n",
    "\n",
    "fig.add_trace(go.Scatter3d(x=c0, y=[1]*len(c0), z=fa(c0a=c0,c1a=1-c0,Va=1), mode='lines', name='fa', line=dict(color='red', width=4)))\n",
    "fig.add_trace(go.Scatter3d(x=c0, y=[0]*len(c0), z=fb(c0b=c0,c1b=1-c0,Vb=1), mode='lines', name='fb', line=dict(color='blue', width = 4)))\n",
    "\n",
    "# # Add the 2D plot for f_reduced\n",
    "# fig.add_trace(go.Scatter(x=c0, y=fa(c0a=c0,c1a=1-c0,Va=1), mode='lines', name='fa'), row=1, col=2)\n",
    "# fig.add_trace(go.Scatter(x=c0, y=fb(c0b=c0,c1b=1-c0,Vb=1), mode='lines', name='fb'), row=1, col=2)\n",
    "# fig.add_trace(go.Scatter(x=c0, y=f2(c0=c0,c1=1-c0,Va=1, Vb=0), mode='lines', name='fb'), row=1, col=2)\n",
    "\n",
    "# Update layout for the entire figure\n",
    "fig.update_layout(\n",
    "    title='3D Surface Plot of f and 2D Plot of f_reduced',\n",
    "    scene=dict(\n",
    "        xaxis_title='c0',\n",
    "        yaxis_title='Va',\n",
    "        zaxis_title='f',\n",
    "        aspectratio = dict(x=2, y=2, z=1),\n",
    "        camera=dict(projection=dict(type=\"orthographic\"))\n",
    "    ),\n",
    ")\n",
    "fig.show()"
   ]
  },
  {
   "cell_type": "code",
   "execution_count": null,
   "metadata": {},
   "outputs": [],
   "source": [
    "f3 = min_pytential(f, vars_out=['Va', 'Vb'])"
   ]
  },
  {
   "cell_type": "code",
   "execution_count": null,
   "metadata": {},
   "outputs": [],
   "source": [
    "\n",
    "f3(Va=.5,Vb=.5)"
   ]
  },
  {
   "cell_type": "code",
   "execution_count": null,
   "metadata": {},
   "outputs": [],
   "source": []
  }
 ],
 "metadata": {
  "kernelspec": {
   "display_name": "Python 3",
   "language": "python",
   "name": "python3"
  },
  "language_info": {
   "codemirror_mode": {
    "name": "ipython",
    "version": 3
   },
   "file_extension": ".py",
   "mimetype": "text/x-python",
   "name": "python",
   "nbconvert_exporter": "python",
   "pygments_lexer": "ipython3",
   "version": "3.12.3"
  }
 },
 "nbformat": 4,
 "nbformat_minor": 2
}
